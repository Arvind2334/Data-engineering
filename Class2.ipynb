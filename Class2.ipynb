{
 "cells": [
  {
   "cell_type": "code",
   "execution_count": 1,
   "id": "d461f126-fa63-43a9-a80f-ea7a51c05cea",
   "metadata": {},
   "outputs": [
    {
     "data": {
      "text/plain": [
       "1"
      ]
     },
     "execution_count": 1,
     "metadata": {},
     "output_type": "execute_result"
    }
   ],
   "source": [
    "x=\"data science\"\n",
    "x.count(\" \")"
   ]
  },
  {
   "cell_type": "code",
   "execution_count": 4,
   "id": "58746852-eb33-41cb-938e-7523a512b82f",
   "metadata": {},
   "outputs": [
    {
     "data": {
      "text/plain": [
       "'dxxxxxtxxxxx science'"
      ]
     },
     "execution_count": 4,
     "metadata": {},
     "output_type": "execute_result"
    }
   ],
   "source": [
    "x=\"data science\"\n",
    "x.replace(\"a\",\"xxxxx\")\n"
   ]
  },
  {
   "cell_type": "code",
   "execution_count": 12,
   "id": "6bd1544b-b53d-42b7-a504-f527ba8c6d6e",
   "metadata": {},
   "outputs": [
    {
     "data": {
      "text/plain": [
       "1"
      ]
     },
     "execution_count": 12,
     "metadata": {},
     "output_type": "execute_result"
    }
   ],
   "source": [
    "x.index(\"a\")"
   ]
  },
  {
   "cell_type": "code",
   "execution_count": 16,
   "id": "0bab0b1b-526d-4745-964f-153d96ad5f41",
   "metadata": {},
   "outputs": [
    {
     "data": {
      "text/plain": [
       "'DA'"
      ]
     },
     "execution_count": 16,
     "metadata": {},
     "output_type": "execute_result"
    }
   ],
   "source": [
    "x=\"data science\"\n",
    "#DA\n",
    "x[0:2].upper()"
   ]
  },
  {
   "cell_type": "code",
   "execution_count": 24,
   "id": "86d4ffc2-1d28-4c91-86d2-83d79c01be41",
   "metadata": {},
   "outputs": [
    {
     "data": {
      "text/plain": [
       "'scienCE'"
      ]
     },
     "execution_count": 24,
     "metadata": {},
     "output_type": "execute_result"
    }
   ],
   "source": [
    "x=\"data SCIENce\"\n",
    "#x[5:].swapcase()\n",
    "x.split()[1].swapcase()\n"
   ]
  },
  {
   "cell_type": "code",
   "execution_count": 26,
   "id": "ceeabfb9-a6ef-4a69-a5e7-d1ee04ac95b6",
   "metadata": {},
   "outputs": [
    {
     "data": {
      "text/plain": [
       "'scienCE'"
      ]
     },
     "execution_count": 26,
     "metadata": {},
     "output_type": "execute_result"
    }
   ],
   "source": [
    "x[-7:].swapcase()"
   ]
  },
  {
   "cell_type": "code",
   "execution_count": 27,
   "id": "02e6520a-6934-4114-997f-82cd54fc31c9",
   "metadata": {},
   "outputs": [
    {
     "data": {
      "text/plain": [
       "'***data**'"
      ]
     },
     "execution_count": 27,
     "metadata": {},
     "output_type": "execute_result"
    }
   ],
   "source": [
    "x=\"data\"\n",
    "x.center(9,\"*\")"
   ]
  },
  {
   "cell_type": "code",
   "execution_count": 29,
   "id": "bd5788da-ab89-428a-9d13-48958ba14662",
   "metadata": {},
   "outputs": [
    {
     "data": {
      "text/plain": [
       "'000000data'"
      ]
     },
     "execution_count": 29,
     "metadata": {},
     "output_type": "execute_result"
    }
   ],
   "source": [
    "x.zfill(10)"
   ]
  },
  {
   "cell_type": "code",
   "execution_count": 30,
   "id": "35d62734-46cf-4591-a8d7-1ff7ac063298",
   "metadata": {},
   "outputs": [
    {
     "data": {
      "text/plain": [
       "'data '"
      ]
     },
     "execution_count": 30,
     "metadata": {},
     "output_type": "execute_result"
    }
   ],
   "source": [
    "x=\"data \"\n",
    "x.lstrip()"
   ]
  },
  {
   "cell_type": "code",
   "execution_count": 32,
   "id": "8a052a39-1c8b-4c81-8002-7401e7fd9565",
   "metadata": {},
   "outputs": [
    {
     "data": {
      "text/plain": [
       "'data'"
      ]
     },
     "execution_count": 32,
     "metadata": {},
     "output_type": "execute_result"
    }
   ],
   "source": [
    "x =\"data \"\n",
    "x.rstrip()\n"
   ]
  },
  {
   "cell_type": "code",
   "execution_count": 33,
   "id": "795cd4df-6151-4074-b4f0-6080b29c9d53",
   "metadata": {},
   "outputs": [
    {
     "data": {
      "text/plain": [
       "'data'"
      ]
     },
     "execution_count": 33,
     "metadata": {},
     "output_type": "execute_result"
    }
   ],
   "source": [
    "x=\"  data \"\n",
    "x.strip()"
   ]
  },
  {
   "cell_type": "code",
   "execution_count": 36,
   "id": "830d6da7-6aba-47cc-9873-d99f4efa73f1",
   "metadata": {},
   "outputs": [
    {
     "data": {
      "text/plain": [
       "'data      '"
      ]
     },
     "execution_count": 36,
     "metadata": {},
     "output_type": "execute_result"
    }
   ],
   "source": [
    "x=\"data\"\n",
    "x.ljust(10)"
   ]
  },
  {
   "cell_type": "code",
   "execution_count": 38,
   "id": "97bc26c6-1583-4a22-a034-d9becc698ad1",
   "metadata": {},
   "outputs": [
    {
     "data": {
      "text/plain": [
       "'******data'"
      ]
     },
     "execution_count": 38,
     "metadata": {},
     "output_type": "execute_result"
    }
   ],
   "source": [
    "x.rjust(10,\"*\")"
   ]
  },
  {
   "cell_type": "code",
   "execution_count": 42,
   "id": "2dd6a0e2-31bd-4bcd-8b51-2d90f13db14a",
   "metadata": {},
   "outputs": [],
   "source": [
    "temperature_data = [\n",
    "    [   # Week 1\n",
    "        [\"Monday\",    [24.5, 34.2, 22.1, 36.0]],\n",
    "        [\"Tuesday\",   [25.0, 33.5, 23.0, 35.5]],\n",
    "        [\"Wednesday\", [23.8, 32.0, 21.5, 34.0]],\n",
    "    ],\n",
    "    [   # Week 2\n",
    "        [\"Monday\",    [26.1, 35.0, 24.2, 37.2]],\n",
    "        [\"Tuesday\",   [25.8, 34.5, 23.7, 36.1]],\n",
    "        [\"Wednesday\", [24.9, 33.3, 22.5, 35.7]],\n",
    "    ]\n",
    "]"
   ]
  },
  {
   "cell_type": "code",
   "execution_count": 43,
   "id": "33c1aa64-cc6c-4449-8ac0-a0a5b9177a18",
   "metadata": {},
   "outputs": [
    {
     "data": {
      "text/plain": [
       "2"
      ]
     },
     "execution_count": 43,
     "metadata": {},
     "output_type": "execute_result"
    }
   ],
   "source": [
    "len(temperature_data)"
   ]
  },
  {
   "cell_type": "code",
   "execution_count": 53,
   "id": "74ff4f62-f0af-4048-9a41-2c7fbf45e654",
   "metadata": {},
   "outputs": [
    {
     "data": {
      "text/plain": [
       "36.1"
      ]
     },
     "execution_count": 53,
     "metadata": {},
     "output_type": "execute_result"
    }
   ],
   "source": [
    "temperature_data[1][1][1][-1]"
   ]
  },
  {
   "cell_type": "code",
   "execution_count": null,
   "id": "7c9fddcb-cea9-437d-9b7d-38dcf6d9d5b6",
   "metadata": {},
   "outputs": [],
   "source": []
  },
  {
   "cell_type": "code",
   "execution_count": null,
   "id": "ec1beffe-b8d3-440c-969a-7ce0d6bca672",
   "metadata": {},
   "outputs": [],
   "source": []
  }
 ],
 "metadata": {
  "kernelspec": {
   "display_name": "Python 3 (ipykernel)",
   "language": "python",
   "name": "python3"
  },
  "language_info": {
   "codemirror_mode": {
    "name": "ipython",
    "version": 3
   },
   "file_extension": ".py",
   "mimetype": "text/x-python",
   "name": "python",
   "nbconvert_exporter": "python",
   "pygments_lexer": "ipython3",
   "version": "3.13.7"
  }
 },
 "nbformat": 4,
 "nbformat_minor": 5
}
