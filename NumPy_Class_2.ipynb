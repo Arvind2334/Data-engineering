{
  "cells": [
    {
      "cell_type": "code",
      "execution_count": 1,
      "metadata": {
        "colab": {
          "base_uri": "https://localhost:8080/"
        },
        "id": "AzTWDLeckYrM",
        "outputId": "d508d948-2a99-4976-a1d3-37149e9e335a"
      },
      "outputs": [
        {
          "data": {
            "text/plain": [
              "array([[6, 7, 0],\n",
              "       [7, 9, 0],\n",
              "       [9, 0, 2]], dtype=int32)"
            ]
          },
          "execution_count": 1,
          "metadata": {},
          "output_type": "execute_result"
        }
      ],
      "source": [
        "import numpy as np\n",
        "data=np.random.randint(0,10,(3,3))\n",
        "data"
      ]
    },
    {
      "cell_type": "code",
      "execution_count": null,
      "metadata": {},
      "outputs": [],
      "source": []
    },
    {
      "cell_type": "markdown",
      "metadata": {},
      "source": []
    },
    {
      "cell_type": "code",
      "execution_count": 2,
      "metadata": {
        "colab": {
          "base_uri": "https://localhost:8080/"
        },
        "id": "IjjWFTNKoFj5",
        "outputId": "75aad476-bef9-4af6-e57a-04ff611013a6"
      },
      "outputs": [
        {
          "data": {
            "text/plain": [
              "np.float64(0.0035995372207472207)"
            ]
          },
          "execution_count": 2,
          "metadata": {},
          "output_type": "execute_result"
        }
      ],
      "source": [
        "np.random.randn(30,30).mean()"
      ]
    },
    {
      "cell_type": "code",
      "execution_count": 3,
      "metadata": {
        "id": "GDT21ELdoFgd"
      },
      "outputs": [
        {
          "ename": "NameError",
          "evalue": "name 'std' is not defined",
          "output_type": "error",
          "traceback": [
            "\u001b[31m---------------------------------------------------------------------------\u001b[39m",
            "\u001b[31mNameError\u001b[39m                                 Traceback (most recent call last)",
            "\u001b[36mCell\u001b[39m\u001b[36m \u001b[39m\u001b[32mIn[3]\u001b[39m\u001b[32m, line 2\u001b[39m\n\u001b[32m      1\u001b[39m np.mean\n\u001b[32m----> \u001b[39m\u001b[32m2\u001b[39m \u001b[43mstd\u001b[49m\n\u001b[32m      3\u001b[39m var\n\u001b[32m      4\u001b[39m np.median\n",
            "\u001b[31mNameError\u001b[39m: name 'std' is not defined"
          ]
        }
      ],
      "source": [
        "np.mean\n",
        "std\n",
        "var\n",
        "np.median"
      ]
    },
    {
      "cell_type": "code",
      "execution_count": null,
      "metadata": {
        "colab": {
          "base_uri": "https://localhost:8080/"
        },
        "id": "EZr9aK-_oFbN",
        "outputId": "d73debec-c6e1-4c4b-fe8b-1d2cca7e95b0"
      },
      "outputs": [],
      "source": [
        "np.std(data)"
      ]
    },
    {
      "cell_type": "code",
      "execution_count": null,
      "metadata": {
        "colab": {
          "base_uri": "https://localhost:8080/"
        },
        "id": "GBVlT_uUoFYq",
        "outputId": "a373d751-e480-4d5c-c3e2-bd1d8a77a6fa"
      },
      "outputs": [],
      "source": [
        "np.std(data)"
      ]
    },
    {
      "cell_type": "code",
      "execution_count": null,
      "metadata": {
        "colab": {
          "base_uri": "https://localhost:8080/"
        },
        "id": "4ZEq6qeKoFVj",
        "outputId": "1b0a6130-d3fa-48cb-dd4c-f3672c30feea"
      },
      "outputs": [],
      "source": [
        "np.mean(data)"
      ]
    },
    {
      "cell_type": "code",
      "execution_count": null,
      "metadata": {
        "colab": {
          "base_uri": "https://localhost:8080/"
        },
        "id": "3X7qj5XOoASB",
        "outputId": "189b078d-88da-4601-f016-76cf7bfd73f2"
      },
      "outputs": [],
      "source": [
        "np.median(data)"
      ]
    },
    {
      "cell_type": "code",
      "execution_count": null,
      "metadata": {
        "colab": {
          "base_uri": "https://localhost:8080/"
        },
        "id": "XjqBQNasoAPh",
        "outputId": "9d1f30ec-cfee-4bc0-e121-737325dcfeda"
      },
      "outputs": [],
      "source": [
        "data=np.random.randint(0,100,10)\n",
        "data"
      ]
    },
    {
      "cell_type": "code",
      "execution_count": null,
      "metadata": {
        "colab": {
          "base_uri": "https://localhost:8080/"
        },
        "id": "IZN55noeoAM3",
        "outputId": "082a57b6-7fe1-41dd-b32f-cc3b92a5660b"
      },
      "outputs": [],
      "source": [
        "data.min(),data.max()"
      ]
    },
    {
      "cell_type": "code",
      "execution_count": null,
      "metadata": {
        "colab": {
          "base_uri": "https://localhost:8080/"
        },
        "id": "vj_pRNejoAKT",
        "outputId": "2302178a-4360-4743-b73e-1946d143c1f1"
      },
      "outputs": [],
      "source": [
        "range=data.max()-data.min()\n",
        "range"
      ]
    },
    {
      "cell_type": "code",
      "execution_count": null,
      "metadata": {
        "colab": {
          "base_uri": "https://localhost:8080/"
        },
        "id": "4JSylmATlbfe",
        "outputId": "2fbda5f0-d9e5-4b3c-a0c1-b74d73ee5db3"
      },
      "outputs": [],
      "source": [
        "import numpy as np\n",
        "data=np.random.randint(0,5,(3,3)) #3/3 matrix b/n 0 to 5\n",
        "data"
      ]
    },
    {
      "cell_type": "code",
      "execution_count": null,
      "metadata": {
        "colab": {
          "base_uri": "https://localhost:8080/"
        },
        "id": "W-kRegqIlbc0",
        "outputId": "36c77d4f-4c8f-4fdd-fcca-b5add350c64b"
      },
      "outputs": [],
      "source": [
        "data.sum(axis=0) # calculatation col wise"
      ]
    },
    {
      "cell_type": "code",
      "execution_count": null,
      "metadata": {},
      "outputs": [
        {
          "data": {
            "text/plain": [
              "array([[0, 1, 1],\n",
              "       [0, 3, 1],\n",
              "       [0, 0, 2]], dtype=int32)"
            ]
          },
          "execution_count": 31,
          "metadata": {},
          "output_type": "execute_result"
        }
      ],
      "source": [
        "import numpy as np\n",
        "data=np.random.randint(0,5,(3,3)) #3/3 matrix b/n 0 to 5\n",
        "data"
      ]
    },
    {
      "cell_type": "code",
      "execution_count": null,
      "metadata": {},
      "outputs": [
        {
          "data": {
            "text/plain": [
              "array([2, 4, 2])"
            ]
          },
          "execution_count": 34,
          "metadata": {},
          "output_type": "execute_result"
        }
      ],
      "source": [
        "data.sum(axis=1) # calculatation row wise\n",
        "#0+1+1\n",
        "#0+3+1\n",
        "#0+0+2"
      ]
    },
    {
      "cell_type": "code",
      "execution_count": null,
      "metadata": {
        "colab": {
          "base_uri": "https://localhost:8080/"
        },
        "id": "UspZKb1plbb9",
        "outputId": "a5281157-3ae0-488b-cd49-dea1136c985c"
      },
      "outputs": [
        {
          "data": {
            "text/plain": [
              "array([[5, 9, 0],\n",
              "       [0, 7, 9],\n",
              "       [1, 7, 3]], dtype=int32)"
            ]
          },
          "execution_count": 47,
          "metadata": {},
          "output_type": "execute_result"
        }
      ],
      "source": [
        "data=np.random.randint(0,10,(3,3))\n",
        "data"
      ]
    },
    {
      "cell_type": "code",
      "execution_count": null,
      "metadata": {
        "colab": {
          "base_uri": "https://localhost:8080/"
        },
        "id": "nZEGThTvlbZb",
        "outputId": "6a95ed2a-d64c-46ec-8c36-5b9a97470922"
      },
      "outputs": [
        {
          "data": {
            "text/plain": [
              "array([7, 9, 5], dtype=int32)"
            ]
          },
          "execution_count": 36,
          "metadata": {},
          "output_type": "execute_result"
        }
      ],
      "source": [
        "data.max(axis=0)"
      ]
    },
    {
      "cell_type": "code",
      "execution_count": null,
      "metadata": {
        "colab": {
          "base_uri": "https://localhost:8080/"
        },
        "id": "sNFBTzsqlMAE",
        "outputId": "09a1ae1b-6364-4c38-f995-acd964e4ae9e"
      },
      "outputs": [
        {
          "data": {
            "text/plain": [
              "array([0, 0, 1], dtype=int32)"
            ]
          },
          "execution_count": 48,
          "metadata": {},
          "output_type": "execute_result"
        }
      ],
      "source": [
        "data.min(axis=1)"
      ]
    },
    {
      "cell_type": "code",
      "execution_count": null,
      "metadata": {
        "colab": {
          "base_uri": "https://localhost:8080/"
        },
        "id": "4jt0jWj1lL9h",
        "outputId": "fe950c31-3bb3-4565-b1c7-4386d090360b"
      },
      "outputs": [
        {
          "data": {
            "text/plain": [
              "array([[5, 9, 0],\n",
              "       [0, 7, 9],\n",
              "       [1, 7, 3]], dtype=int32)"
            ]
          },
          "execution_count": 49,
          "metadata": {},
          "output_type": "execute_result"
        }
      ],
      "source": [
        "data"
      ]
    },
    {
      "cell_type": "code",
      "execution_count": null,
      "metadata": {
        "colab": {
          "base_uri": "https://localhost:8080/"
        },
        "id": "G_ZCWJHnlL6a",
        "outputId": "9ea22130-7165-4d7d-9e79-d0f827a971d3"
      },
      "outputs": [
        {
          "data": {
            "text/plain": [
              "np.int32(9)"
            ]
          },
          "execution_count": 50,
          "metadata": {},
          "output_type": "execute_result"
        }
      ],
      "source": [
        "data[0:2,0:].max()"
      ]
    },
    {
      "cell_type": "code",
      "execution_count": null,
      "metadata": {
        "colab": {
          "base_uri": "https://localhost:8080/"
        },
        "id": "cpxb983ilLze",
        "outputId": "9166e275-e53c-4df1-b041-eaac92a90fbd"
      },
      "outputs": [
        {
          "data": {
            "text/plain": [
              "array([7, 8, 2, 0, 4, 7, 2, 3, 7, 2], dtype=int32)"
            ]
          },
          "execution_count": 53,
          "metadata": {},
          "output_type": "execute_result"
        }
      ],
      "source": [
        "data=np.random.randint(0,10,10)\n",
        "data"
      ]
    },
    {
      "cell_type": "code",
      "execution_count": null,
      "metadata": {
        "colab": {
          "base_uri": "https://localhost:8080/"
        },
        "id": "10hxT_1HlLvs",
        "outputId": "4cab064c-898e-4870-f178-8068a70374cb"
      },
      "outputs": [
        {
          "data": {
            "text/plain": [
              "np.int32(0)"
            ]
          },
          "execution_count": 57,
          "metadata": {},
          "output_type": "execute_result"
        }
      ],
      "source": [
        "data.min()"
      ]
    },
    {
      "cell_type": "code",
      "execution_count": null,
      "metadata": {
        "colab": {
          "base_uri": "https://localhost:8080/"
        },
        "id": "Jem3wRJmlLrr",
        "outputId": "a87a964b-ace9-4059-aca2-d54583ba96c3"
      },
      "outputs": [
        {
          "data": {
            "text/plain": [
              "np.int64(3)"
            ]
          },
          "execution_count": 58,
          "metadata": {},
          "output_type": "execute_result"
        }
      ],
      "source": [
        "data.argmin()"
      ]
    },
    {
      "cell_type": "code",
      "execution_count": null,
      "metadata": {
        "colab": {
          "base_uri": "https://localhost:8080/"
        },
        "id": "pDw698ZGlLk9",
        "outputId": "92922e64-4dcb-4a0b-9632-75b13ee5e334"
      },
      "outputs": [
        {
          "name": "stdout",
          "output_type": "stream",
          "text": [
            "[[ 7 96 60]\n",
            " [83 56 36]\n",
            " [19 34 53]]\n",
            "col (0) wise index position of min value [0 2 1]\n",
            "row(1) wise index position of min value [0 2 0]\n"
          ]
        }
      ],
      "source": [
        "data=np.random.randint(0,100,(3,3))\n",
        "print(data)\n",
        "print(f\"col (0) wise index position of min value {data.argmin(axis=0)}\")\n",
        "print(f\"row(1) wise index position of min value {data.argmin(axis=1)}\")\n"
      ]
    },
    {
      "cell_type": "code",
      "execution_count": null,
      "metadata": {
        "colab": {
          "base_uri": "https://localhost:8080/"
        },
        "id": "uWXFTO1GlLd7",
        "outputId": "46857bae-e78e-4012-9963-dc70fab0734d"
      },
      "outputs": [
        {
          "name": "stdout",
          "output_type": "stream",
          "text": [
            "[[    1 25000   300  1200    10]\n",
            " [    2 32000   450  1500    15]\n",
            " [    3 28000   380  1100     8]\n",
            " [    4 41000   500  1600    20]\n",
            " [    5 35000   420  1400    12]\n",
            " [    6 27000   360  1300     9]\n",
            " [    7 39000   480  1700    18]\n",
            " [    8 30000   400  1250    14]\n",
            " [    9 45000   550  1800    25]\n",
            " [   10 33000   410  1450    11]]\n"
          ]
        }
      ],
      "source": [
        "import numpy as np\n",
        "\n",
        "# Manually created array: [Store ID, Sales, Customers, Inventory, Returns]\n",
        "retail_data = np.array([\n",
        "    [1, 25000, 300, 1200, 10],\n",
        "    [2, 32000, 450, 1500, 15],\n",
        "    [3, 28000, 380, 1100, 8],\n",
        "    [4, 41000, 500, 1600, 20],\n",
        "    [5, 35000, 420, 1400, 12],\n",
        "    [6, 27000, 360, 1300, 9],\n",
        "    [7, 39000, 480, 1700, 18],\n",
        "    [8, 30000, 400, 1250, 14],\n",
        "    [9, 45000, 550, 1800, 25],\n",
        "    [10, 33000, 410, 1450, 11]\n",
        "])\n",
        "\n",
        "print(retail_data)\n"
      ]
    },
    {
      "cell_type": "code",
      "execution_count": null,
      "metadata": {
        "id": "kkjQ5dcLzgx-"
      },
      "outputs": [],
      "source": [
        "[Store ID, Sales, Customers, Inventory, Returns]"
      ]
    },
    {
      "cell_type": "code",
      "execution_count": null,
      "metadata": {
        "colab": {
          "base_uri": "https://localhost:8080/"
        },
        "id": "RG6gBkVPlLal",
        "outputId": "5873dfbc-cc8a-4083-916a-41ccd8d54ce4"
      },
      "outputs": [],
      "source": [
        "retail_data[:,1].sum()"
      ]
    },
    {
      "cell_type": "code",
      "execution_count": null,
      "metadata": {
        "colab": {
          "base_uri": "https://localhost:8080/"
        },
        "id": "LGaiyWeYlLXM",
        "outputId": "0eebb9b6-915e-478e-8cd3-b0676f97dc4e"
      },
      "outputs": [],
      "source": [
        "retail_data[:,3].argmax()+1"
      ]
    },
    {
      "cell_type": "code",
      "execution_count": null,
      "metadata": {
        "colab": {
          "base_uri": "https://localhost:8080/"
        },
        "id": "GFytasZ0lLT0",
        "outputId": "a173c700-77f8-4a30-90b6-eed851273f4f"
      },
      "outputs": [],
      "source": [
        "retail_data"
      ]
    },
    {
      "cell_type": "code",
      "execution_count": null,
      "metadata": {
        "id": "Hh_Ci-ezlLQc"
      },
      "outputs": [],
      "source": [
        "sales/customer\n",
        "sales/transaction : basket value\n",
        "sales/units: basket size"
      ]
    },
    {
      "cell_type": "code",
      "execution_count": null,
      "metadata": {
        "id": "tBJz9bTy13Fj"
      },
      "outputs": [],
      "source": [
        "[Store ID, Sales, Customers, Inventory, Returns]"
      ]
    },
    {
      "cell_type": "code",
      "execution_count": null,
      "metadata": {
        "colab": {
          "base_uri": "https://localhost:8080/"
        },
        "id": "kQD5Npzs14BY",
        "outputId": "927dbe80-30e2-46fc-c76e-8bfcc7c002c4"
      },
      "outputs": [],
      "source": [
        "(retail_data[:,1]/retail_data[:,2]).argmax()+1"
      ]
    },
    {
      "cell_type": "code",
      "execution_count": null,
      "metadata": {
        "colab": {
          "base_uri": "https://localhost:8080/"
        },
        "id": "rUt_XAAulLK0",
        "outputId": "d212e57d-6943-4a8e-80ed-42b8035e8fbe"
      },
      "outputs": [],
      "source": [
        "retail_data"
      ]
    },
    {
      "cell_type": "code",
      "execution_count": null,
      "metadata": {
        "id": "uA0-PYuhlLHM"
      },
      "outputs": [],
      "source": [
        "[Store ID, Sales, Customers, Inventory, Returns]"
      ]
    },
    {
      "cell_type": "code",
      "execution_count": null,
      "metadata": {
        "id": "XndYEg3-2m2K"
      },
      "outputs": [],
      "source": [
        "# Retail Data – Business Questions (for `retail_data`)\n",
        "\n",
        "**Assumed columns:** `[StoreID, Sales, Customers, Inventory, Returns]`\n",
        "\n",
        "## Basic Performance Analysis\n",
        "1. What is the **total revenue** generated across all stores?\n",
        "2. Which store recorded the **highest sales**?\n",
        "3. Which store recorded the **lowest sales**?\n",
        "4. What is the **average daily sales** per store?\n",
        "5. How many stores achieved sales **above ₹35,000**?\n",
        "\n",
        "## Customer Insights\n",
        "6. Which store had the **highest customer footfall**?\n",
        "7. What is the **average number of customers** per store?\n",
        "8. How many stores have **more than 450 customers**?\n",
        "9. Which store has the **lowest customer count**?\n",
        "10. Is there any store where **high sales do not correspond to high customers**?\n",
        "\n",
        "## Inventory & Returns Analysis\n",
        "11. What is the **total inventory** across all stores?\n",
        "12. Which store has the **highest inventory stock**?\n",
        "13. How many stores have **inventory less than 1300 units**?\n",
        "14. Which store has the **highest return rate** (returns ÷ inventory)?\n",
        "15. Which stores have **returns greater than 15 units**?\n",
        "\n",
        "## Sales & Customer Correlation\n",
        "16. Is there a **positive correlation** between sales and customers?\n",
        "17. Which store has **high customer visits but low sales**?\n",
        "18. Which store has **low customers but high sales**?\n",
        "19. How many stores have **sales per customer above ₹90**?\n",
        "20. Which stores could **benefit from customer acquisition campaigns** (low customers, high inventory)?\n",
        "\n",
        "## Profitability & Growth\n",
        "21. If profit margin is **20% of sales**, what is the **profit per store**?\n",
        "22. Which store has the **highest profit**?\n",
        "23. Which store has the **lowest profit**?\n",
        "24. If sales increase by **10% next month**, what are the **new sales figures**?\n",
        "25. How will **total profit** change with the 10% sales increase?\n",
        "\n",
        "## Operational Strategy\n",
        "26. Which stores need **inventory restocking** based on sales and current stock?\n",
        "27. Which stores show **high returns percentage** and might require **quality checks**?\n",
        "28. Which store is the **best performer overall** (sales, customers, inventory turnover)?\n",
        "29. Which store is the **worst performer overall**?\n",
        "30. Which stores can be considered for **expansion** based on strong sales and customer metrics?\n"
      ]
    },
    {
      "cell_type": "code",
      "execution_count": null,
      "metadata": {
        "id": "QO3UaHejlK9i"
      },
      "outputs": [],
      "source": [
        "data=np.random.randint(0,10,3)\n",
        "x=20"
      ]
    },
    {
      "cell_type": "code",
      "execution_count": null,
      "metadata": {
        "colab": {
          "base_uri": "https://localhost:8080/"
        },
        "id": "u8vh2zi0lK6k",
        "outputId": "9fcac7cb-606a-45d8-df54-b0658287fa30"
      },
      "outputs": [],
      "source": [
        "data+x"
      ]
    },
    {
      "cell_type": "code",
      "execution_count": null,
      "metadata": {
        "colab": {
          "base_uri": "https://localhost:8080/"
        },
        "id": "Z51GTTJylK3i",
        "outputId": "f9f19fdd-52c1-4313-fca9-a2065c95c392"
      },
      "outputs": [],
      "source": [
        "data"
      ]
    },
    {
      "cell_type": "code",
      "execution_count": null,
      "metadata": {
        "colab": {
          "base_uri": "https://localhost:8080/"
        },
        "id": "efv1W8bLlK08",
        "outputId": "ec1cf850-7a31-434b-ec0c-e458fdd584ea"
      },
      "outputs": [],
      "source": [
        "x=np.random.randint(0,10,(3,1))\n",
        "y=np.random.randint(0,10,(1,3))\n",
        "x+y"
      ]
    },
    {
      "cell_type": "code",
      "execution_count": null,
      "metadata": {
        "colab": {
          "base_uri": "https://localhost:8080/"
        },
        "id": "GJjgBvm5lKyM",
        "outputId": "3f7511ab-dde4-424b-f874-8156d14228e0"
      },
      "outputs": [],
      "source": [
        "x"
      ]
    },
    {
      "cell_type": "code",
      "execution_count": null,
      "metadata": {
        "colab": {
          "base_uri": "https://localhost:8080/"
        },
        "id": "ZWRrwYLn4zla",
        "outputId": "cbfe6c2d-8654-4f96-8488-cd78fadd5d04"
      },
      "outputs": [],
      "source": [
        "y"
      ]
    },
    {
      "cell_type": "code",
      "execution_count": null,
      "metadata": {
        "id": "7zTM0IuX5U7W"
      },
      "outputs": [],
      "source": [
        "x=np.random.randint(0,10,(3,1))\n",
        "y=np.random.randint(0,10,(1,3))"
      ]
    },
    {
      "cell_type": "code",
      "execution_count": null,
      "metadata": {
        "colab": {
          "base_uri": "https://localhost:8080/"
        },
        "id": "e2x5IJg75XE0",
        "outputId": "b7cbea69-c25f-4056-eafb-4878ae203a61"
      },
      "outputs": [],
      "source": [
        "x"
      ]
    },
    {
      "cell_type": "code",
      "execution_count": null,
      "metadata": {
        "colab": {
          "base_uri": "https://localhost:8080/"
        },
        "id": "6LvGSPIY5ZD6",
        "outputId": "a4503ac1-9d94-4acc-8c1f-2f2b567451f7"
      },
      "outputs": [],
      "source": [
        "y"
      ]
    }
  ],
  "metadata": {
    "colab": {
      "provenance": []
    },
    "kernelspec": {
      "display_name": "Python 3",
      "name": "python3"
    },
    "language_info": {
      "codemirror_mode": {
        "name": "ipython",
        "version": 3
      },
      "file_extension": ".py",
      "mimetype": "text/x-python",
      "name": "python",
      "nbconvert_exporter": "python",
      "pygments_lexer": "ipython3",
      "version": "3.13.7"
    }
  },
  "nbformat": 4,
  "nbformat_minor": 0
}
