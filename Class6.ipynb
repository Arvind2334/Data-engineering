{
 "cells": [
  {
   "cell_type": "markdown",
   "id": "392fc241",
   "metadata": {},
   "source": [
    "Control structure and loops"
   ]
  },
  {
   "cell_type": "code",
   "execution_count": null,
   "id": "b0235e76",
   "metadata": {},
   "outputs": [],
   "source": [
    "if True:\n",
    "    print(\"data\")"
   ]
  },
  {
   "cell_type": "code",
   "execution_count": null,
   "id": "8508ab52",
   "metadata": {},
   "outputs": [],
   "source": [
    "x=20\n",
    "if x>10:\n",
    "    print(\"data\")\n",
    "else:\n",
    "    print(\"data science\")"
   ]
  },
  {
   "cell_type": "code",
   "execution_count": null,
   "id": "14d404b5",
   "metadata": {},
   "outputs": [],
   "source": [
    "x=86\n",
    "if x>80:\n",
    "    print(\"grade A\")\n",
    "else:\n",
    "    print(\"grade B\")"
   ]
  },
  {
   "cell_type": "code",
   "execution_count": null,
   "id": "75bca368",
   "metadata": {},
   "outputs": [],
   "source": [
    "x=float(input())\n",
    "if x>=80:\n",
    "    print(\"grade 1\")\n",
    "elif x>60 and x< 80:\n",
    "    print(\"grade2\")\n",
    "else:\n",
    "    print(\"fail\")"
   ]
  },
  {
   "cell_type": "code",
   "execution_count": null,
   "id": "5571f81c",
   "metadata": {},
   "outputs": [],
   "source": [
    "num=int(input(\"Enter a number: \"))\n",
    "if num>0:\n",
    "    print(\"Positive\")\n",
    "elif num<0:\n",
    "    print(\"Negative\")\n",
    "else:\n",
    "    print(\"Zero\")"
   ]
  },
  {
   "cell_type": "code",
   "execution_count": null,
   "id": "7fd4b20c",
   "metadata": {},
   "outputs": [],
   "source": [
    "x=10\n",
    "if x>5:\n",
    "    print(\"test\")"
   ]
  },
  {
   "cell_type": "code",
   "execution_count": null,
   "id": "c7c3beea",
   "metadata": {},
   "outputs": [],
   "source": [
    "x=\"Data\"\n",
    "if x.endswith(\"a\"):\n",
    "    print(\"data\")\n",
    "else:\n",
    "    print(\"No Data\")\n",
    "\n"
   ]
  },
  {
   "cell_type": "code",
   "execution_count": null,
   "id": "ca7bed77",
   "metadata": {},
   "outputs": [],
   "source": [
    "x=\"Data\"\n",
    "if x.endswith(\"d\") and x.startwith(\"D\"):\n",
    "    print(\"data\")\n",
    "else:\n",
    "    print(\"No Data\")\n",
    "\n"
   ]
  },
  {
   "cell_type": "code",
   "execution_count": null,
   "id": "5f9c610a",
   "metadata": {},
   "outputs": [],
   "source": [
    "x1=\"Data\"\n",
    "if not (len(x1)%2==0 and x1.startswith(\"D\")):\n",
    "    print(\"data\")\n",
    "else:\n",
    "    print(\"No Data\")"
   ]
  },
  {
   "cell_type": "code",
   "execution_count": null,
   "id": "2d886aa3",
   "metadata": {},
   "outputs": [],
   "source": [
    "if True:\n",
    "    print(\"data\")\n",
    "else:\n",
    "    print(\"data science\")"
   ]
  },
  {
   "cell_type": "code",
   "execution_count": null,
   "id": "61efca0e",
   "metadata": {},
   "outputs": [],
   "source": [
    "x=86\n",
    "if x>80:\n",
    "    print(\"grade 1\")\n",
    "elif x>60 and x <80:\n",
    "    print(\"grade2\")\n",
    "else:\n",
    "    print(\"Fail\")\n"
   ]
  },
  {
   "cell_type": "code",
   "execution_count": null,
   "id": "1686923b",
   "metadata": {},
   "outputs": [],
   "source": [
    "while True: # it will run till valid number get entred \n",
    "    try:\n",
    "        num = int(input(\"Enter a number: \"))\n",
    "        if num > 0:\n",
    "            print(\"Positive Number\")\n",
    "        elif num < 0:\n",
    "            print(\"Negative Number\")\n",
    "        else:\n",
    "            print(\"Zero\")\n",
    "        break  # Exit loop after valid input and message\n",
    "    except ValueError:\n",
    "        print(\"Please enter a valid integer.\")\n"
   ]
  },
  {
   "cell_type": "code",
   "execution_count": null,
   "id": "98872d56",
   "metadata": {},
   "outputs": [],
   "source": [
    "while True:\n",
    "    try:\n",
    "        char = input(\"Enter a single letter: \").lower()\n",
    "        if len(char) != 1 or not (char.isalpha()):\n",
    "            raise ValueError(\"You must enter exactly one character\")\n",
    "        # If no exception is raised, Python just keeps running the code inside the try block line by line.\n",
    "        # As soon as Python hits a raise ValueError(...), it says:👉 “Stop right here! I’m not running the rest of the try block anymore.”\n",
    "        # Then it immediately jumps to the except ValueError block.\n",
    "        if char in 'aeiou':\n",
    "            print(\"Vowel\")\n",
    "        else:\n",
    "            print(\"Consonant\")\n",
    "        break\n",
    "    except ValueError as e:\n",
    "        print(e)\n",
    "\n"
   ]
  },
  {
   "cell_type": "code",
   "execution_count": null,
   "id": "af7cf2b7",
   "metadata": {},
   "outputs": [],
   "source": [
    "username=input(\"Enter a user name:\")\n",
    "if len(username) <5:\n",
    "    print(\"Too short\")\n",
    "elif len(username)>15:\n",
    "    print(\"Too long\")\n",
    "else:\n",
    "    print(\"valid username\")\n"
   ]
  },
  {
   "cell_type": "code",
   "execution_count": null,
   "id": "a11b13e9",
   "metadata": {},
   "outputs": [],
   "source": [
    "for i in \"data science\".split():\n",
    "    print(i)\n"
   ]
  },
  {
   "cell_type": "code",
   "execution_count": null,
   "id": "4579a87c",
   "metadata": {},
   "outputs": [],
   "source": [
    "\"data science\".split(\"a\") # a will not be there in output"
   ]
  },
  {
   "cell_type": "code",
   "execution_count": null,
   "id": "913fc701",
   "metadata": {},
   "outputs": [],
   "source": [
    "for i in \"data756\":\n",
    "    if i.isalpha():\n",
    "        print(i,end=\",\") # any speratore\n",
    "    "
   ]
  },
  {
   "cell_type": "code",
   "execution_count": null,
   "id": "2759e72e",
   "metadata": {},
   "outputs": [],
   "source": [
    "\"1\"*3\n",
    "\"1\" + \" \" + \"1\" + \" \" + \"data\""
   ]
  },
  {
   "cell_type": "code",
   "execution_count": null,
   "id": "18792067",
   "metadata": {},
   "outputs": [],
   "source": [
    "for i in range (2,11,2):\n",
    "    print(i ,end=' ')"
   ]
  },
  {
   "cell_type": "code",
   "execution_count": null,
   "id": "2f01e456",
   "metadata": {},
   "outputs": [],
   "source": [
    "for i in range(10,2,-3):\n",
    "    print (i)"
   ]
  },
  {
   "cell_type": "code",
   "execution_count": null,
   "id": "78d8cdf5",
   "metadata": {},
   "outputs": [],
   "source": [
    "for i in range(1,6):\n",
    "    print('*' * i,)"
   ]
  },
  {
   "cell_type": "code",
   "execution_count": null,
   "id": "72e4ba05",
   "metadata": {},
   "outputs": [],
   "source": [
    "for i in range(1,6):\n",
    "    for j in range(5,0,-1):\n",
    "        print(\"*\" * j)\n",
    "    if j==i: # this is outer loop body so it will exit and not be running 2nd time\n",
    "        break \n",
    "    "
   ]
  },
  {
   "cell_type": "code",
   "execution_count": null,
   "id": "25a92c16",
   "metadata": {},
   "outputs": [],
   "source": [
    "for i in range(1,6):\n",
    "    print(\"*\" * (6-i))   "
   ]
  },
  {
   "cell_type": "code",
   "execution_count": null,
   "id": "e8d92e1a",
   "metadata": {},
   "outputs": [],
   "source": [
    "for i in range (5,0,-1):\n",
    "    print(\"*\" * i)\n",
    "    "
   ]
  },
  {
   "cell_type": "code",
   "execution_count": null,
   "id": "30f8ecb8",
   "metadata": {},
   "outputs": [],
   "source": [
    "customer_review='''customers find the laptop's build quality good, with one\n",
    "noting its premium look a@$@%@%nd feel, and consider it good value\n",
    " for money. Moreover, the sound quality is acceptable, and\n",
    " they find it suitable fo@$@4r student use. However, the performance\n",
    " receives mixed feedback, with some finding it satisfying while others\n",
    " describe it as extremely bad. Addit@@@%2ionally, the fingerprint sensor is not available,\n",
    "and cus24$@$@%tomers report poor battery performance.'''"
   ]
  },
  {
   "cell_type": "code",
   "execution_count": null,
   "id": "61ee379a",
   "metadata": {},
   "outputs": [],
   "source": [
    "for i in customer_review:\n",
    "    if not (i.isalpha() or i.isspace()):\n",
    "        print(i ,end=\" \")"
   ]
  },
  {
   "cell_type": "code",
   "execution_count": null,
   "id": "d3565d3f",
   "metadata": {},
   "outputs": [],
   "source": [
    "for i in customer_review.split():\n",
    "    print(i,\"=\",len(i))"
   ]
  },
  {
   "cell_type": "code",
   "execution_count": null,
   "id": "748620a9",
   "metadata": {},
   "outputs": [],
   "source": [
    "d={}\n",
    "for i in customer_review.split():\n",
    "    d[i]=len(i)\n",
    "print(d)  "
   ]
  },
  {
   "cell_type": "code",
   "execution_count": null,
   "id": "0cb78373",
   "metadata": {},
   "outputs": [],
   "source": [
    "customer_review1=\"good product nice good nice\" \n",
    "# check if item exist then increase the value else value remain 1\n",
    "d = {}\n",
    "for i in customer_review1.split():\n",
    "    if i in d:\n",
    "        d[i] += 1      # increase count if word already seen\n",
    "    else:\n",
    "        d[i] = 1       # first time word appears, start count as 1\n",
    "print(d)\n"
   ]
  },
  {
   "cell_type": "code",
   "execution_count": null,
   "id": "b403b391",
   "metadata": {},
   "outputs": [],
   "source": [
    "customer_review\n",
    "counter=0\n",
    "for i in customer_review.lower():\n",
    "    if i in \"aeiouAEIOU\":\n",
    "        counter=counter+1\n",
    "print(counter)"
   ]
  },
  {
   "cell_type": "code",
   "execution_count": null,
   "id": "d0b41700",
   "metadata": {},
   "outputs": [],
   "source": [
    "customer_review\n",
    "counstant=0\n",
    "for i in customer_review.lower():\n",
    "    if i not in \"aeiouAEIOU\" and i.isalpha():\n",
    "        counstant=counstant+1\n",
    "\n",
    "print(counstant)"
   ]
  },
  {
   "cell_type": "code",
   "execution_count": null,
   "id": "7ccc0401",
   "metadata": {},
   "outputs": [],
   "source": [
    "x=\"data\"\n",
    "for i in range(len(x)+1):\n",
    "    print(x[0:i]) "
   ]
  },
  {
   "cell_type": "code",
   "execution_count": null,
   "id": "b099ef7f",
   "metadata": {},
   "outputs": [],
   "source": [
    "for i in range(0,10,2):\n",
    "    for j in range(0,10,3):\n",
    "        print(i,j ,end=\" - \")"
   ]
  },
  {
   "cell_type": "markdown",
   "id": "2c0380a6",
   "metadata": {},
   "source": [
    "*\n",
    "* *\n",
    "* * *\n",
    "* *\n",
    "*"
   ]
  },
  {
   "cell_type": "code",
   "execution_count": null,
   "id": "692ea38a",
   "metadata": {},
   "outputs": [],
   "source": [
    "for i in range (1):\n",
    "    for j in range(1,6):\n",
    "        print('*' * j)\n",
    "        if j==5:\n",
    "            for k in range(5,0,-1):\n",
    "                print(k* \"*\")\n",
    "                "
   ]
  },
  {
   "cell_type": "code",
   "execution_count": null,
   "id": "5c12e830",
   "metadata": {},
   "outputs": [],
   "source": [
    "n=5\n",
    "for i in range(1, n + 1):\n",
    "    left = \"*\" * i\n",
    "    middle = \" \" * (2 * (n - i))\n",
    "    right = \"*\" * i\n",
    "    print(left  + middle + right)\n",
    "for i in range(4,1,-1):\n",
    "    left = \"*\" * i\n",
    "    middle = \" \" * (2 * (n - i))\n",
    "    right = \"*\" * i\n",
    "    print(left  + middle + right)"
   ]
  },
  {
   "cell_type": "code",
   "execution_count": null,
   "id": "4de568b5",
   "metadata": {},
   "outputs": [],
   "source": [
    "n=5\n",
    "for i in range(1, n + 1):\n",
    "    left = \"*\" * i\n",
    "    middle = \" \" * (2 * (n - i))\n",
    "    right = \"*\" * i\n",
    "    print(left  + right)\n",
    "for i in range(4,1,-1):\n",
    "    left = \"*\" * i\n",
    "    middle = \" \" * (2 * (n - i))\n",
    "    right = \"*\" * i\n",
    "    print(left  + middle + right)"
   ]
  },
  {
   "cell_type": "markdown",
   "id": "f37f101e",
   "metadata": {},
   "source": [
    "    *    \n",
    "   ***   \n",
    "  *****  \n",
    " ******* \n",
    "*********\n",
    " ******* \n",
    "  *****  \n",
    "   ***   \n",
    "    * "
   ]
  },
  {
   "cell_type": "code",
   "execution_count": null,
   "id": "273ea96d",
   "metadata": {},
   "outputs": [],
   "source": [
    "n=5\n",
    "k=1\n",
    "for i in range(1, 6,1):\n",
    "    left=\" \" * (1 * (n - i))\n",
    "    middle ='*' * (k)\n",
    "    k=k+2\n",
    "    right=\" \" * (1 * (n - i))\n",
    "    print(left + middle +left)\n",
    "m=1 \n",
    "for i in range(7, 0,-2):\n",
    "    left=\" \" *m\n",
    "    middle =\"*\" *i\n",
    "    m=m+1\n",
    "    right=\" \" *m\n",
    "    print(left + middle +right)\n"
   ]
  },
  {
   "cell_type": "code",
   "execution_count": 250,
   "id": "7f5f11a2",
   "metadata": {},
   "outputs": [
    {
     "name": "stdout",
     "output_type": "stream",
     "text": [
      "*\n",
      "**\n",
      "***\n",
      "****\n",
      "*****\n",
      "****\n",
      "***\n",
      "**\n",
      "*\n"
     ]
    }
   ],
   "source": [
    "n=5\n",
    "for i in range(1, n + 1):\n",
    "    left = \"*\" * i\n",
    "    #middle = \" \" * (2 * (n - i))\n",
    "    right = \"*\" * i\n",
    "    print(left)\n",
    "\n",
    "for i in range(4,0,-1):\n",
    "    left = \"*\" * i\n",
    "    middle = \" \" * (2 * (n - i))\n",
    "    right = \"*\" * i\n",
    "    print(left)"
   ]
  }
 ],
 "metadata": {
  "kernelspec": {
   "display_name": "Python 3",
   "language": "python",
   "name": "python3"
  },
  "language_info": {
   "codemirror_mode": {
    "name": "ipython",
    "version": 3
   },
   "file_extension": ".py",
   "mimetype": "text/x-python",
   "name": "python",
   "nbconvert_exporter": "python",
   "pygments_lexer": "ipython3",
   "version": "3.13.7"
  }
 },
 "nbformat": 4,
 "nbformat_minor": 5
}
