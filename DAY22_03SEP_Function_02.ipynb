{
 "cells": [
  {
   "cell_type": "code",
   "execution_count": null,
   "id": "ce3075dc",
   "metadata": {},
   "outputs": [],
   "source": [
    "def shoping_list(*args):  # defining the function\n",
    "    print(\"Item in the list:\",args)\n",
    "\n",
    "shoping_list(\"milk\",\"bread\",\"butter\") # calling the function"
   ]
  },
  {
   "cell_type": "code",
   "execution_count": null,
   "id": "04e09400",
   "metadata": {},
   "outputs": [],
   "source": [
    "# ** keyborad args comes inform of dic: means key and value\n",
    "\n",
    "def order_details(**kwargs): # defining the function\n",
    "    print(\"Order details:\",kwargs)\n",
    "order_details(item=\"laptop\",price=5000,quantity=2) #calling the function"
   ]
  },
  {
   "cell_type": "code",
   "execution_count": null,
   "id": "82c798a6",
   "metadata": {},
   "outputs": [],
   "source": [
    "def greet(**kwargs):\n",
    "    for key,value in kwargs.items():\n",
    "        print(f\"{key} = {value}\")\n",
    "\n",
    "greet(name=\"Arivnd\" ,role=\"Data Engineer\",company=\"Edukron\")  "
   ]
  },
  {
   "cell_type": "code",
   "execution_count": null,
   "id": "312b0863",
   "metadata": {},
   "outputs": [],
   "source": [
    "def introduce(name,**kwargs):\n",
    "    print(\"Name:\",name)\n",
    "    if \"age\" in kwargs:\n",
    "        print(\"Age:\",kwargs[\"age\"])\n",
    "    if \"job\" in kwargs:\n",
    "        print(\"Job:\",kwargs[\"job\"])\n",
    "\n",
    "introduce(\"Arvind\",age=14,job='Ds')\n"
   ]
  },
  {
   "cell_type": "code",
   "execution_count": null,
   "id": "5de3a2a4",
   "metadata": {},
   "outputs": [],
   "source": [
    "def introduce(name,**kwargs):\n",
    "    print(\"Name:\",name)\n",
    "    if \"ae\" in kwargs: # key not mathcing\n",
    "        print(\"Age:\",kwargs[\"age\"]) # it will not print\n",
    "    if \"job\" in kwargs:\n",
    "        print(\"Job:\",kwargs[\"job\"])\n",
    "\n",
    "introduce(\"Arvind\",age=14,job='Ds')\n"
   ]
  },
  {
   "cell_type": "code",
   "execution_count": null,
   "id": "60ca69c7",
   "metadata": {},
   "outputs": [],
   "source": [
    "def introduce(name,**kwargs):\n",
    "    print(\"Name:\",name)\n",
    "    if \"age\" in kwargs: # key not mathcing\n",
    "        print(\"Age:\",kwargs[\"age\"]) # it will not print\n",
    "    if \"job\" in kwargs:\n",
    "        print(\"Job:\",kwargs[\"job\"])\n",
    "\n",
    "introduce(\"Arvind\",age=30,job='Ds')\n"
   ]
  },
  {
   "cell_type": "code",
   "execution_count": null,
   "id": "4ba1f289",
   "metadata": {},
   "outputs": [],
   "source": [
    "def introduce(**kwargs):\n",
    "    print(\"Name:\",kwargs['name'])\n",
    "    if \"age\" in kwargs: # key not mathcing\n",
    "        print(\"Age:\",kwargs[\"age\"]) # it will not print\n",
    "    if \"job\" in kwargs:\n",
    "        print(\"Job:\",kwargs[\"job\"])\n",
    "\n",
    "introduce(name=\"Arvind\",age=30,job='Ds')\n"
   ]
  },
  {
   "cell_type": "code",
   "execution_count": null,
   "id": "34427817",
   "metadata": {},
   "outputs": [],
   "source": [
    "d={\"a\":10}\n",
    "d.get(\"b\",\"b\")"
   ]
  },
  {
   "cell_type": "code",
   "execution_count": null,
   "id": "531519d2",
   "metadata": {},
   "outputs": [],
   "source": [
    "def connect_db(**kwargs):\n",
    "    host=kwargs.get(\"host\", \"localhost\")\n",
    "    port = kwargs.get(\"port\",1433)\n",
    "    print(f\"Connecting to {host}:{port}\")\n",
    "connect_db(user=\"admin\") # no host/port given\n",
    "connect_db(host=8304) # no host given"
   ]
  },
  {
   "cell_type": "code",
   "execution_count": null,
   "id": "b3c5fa4c",
   "metadata": {},
   "outputs": [],
   "source": [
    "def greet(*args,**kwrgs):\n",
    "    for person in args:\n",
    "        print(\"Hello\",person)\n",
    "    for k,v in kwrgs.items():\n",
    "        print(f\" {k}:{v}\")\n",
    "greet(\"Anusha\",\"Kiran\",course='Python',batch='Morning')"
   ]
  },
  {
   "cell_type": "code",
   "execution_count": null,
   "id": "c127b873",
   "metadata": {},
   "outputs": [],
   "source": [
    "def calculate(*args,**kwargs):\n",
    "    total =sum(args)\n",
    "    print(\"Total:\",total)\n",
    "    if \"discount\" in kwargs:\n",
    "        total= total-kwargs[\"discount\"]\n",
    "    print(\"Final\",total)\n",
    "\n",
    "calculate(100,200,50,discount=30)"
   ]
  },
  {
   "cell_type": "code",
   "execution_count": null,
   "id": "f27e7967",
   "metadata": {},
   "outputs": [],
   "source": [
    "#map vs for loop"
   ]
  },
  {
   "cell_type": "code",
   "execution_count": null,
   "id": "2a12f58d",
   "metadata": {},
   "outputs": [],
   "source": [
    "def even_odd(x):\n",
    "    if x%2==0:\n",
    "        return True\n",
    "    else:\n",
    "        return False\n",
    "\n",
    "even_odd(11)"
   ]
  },
  {
   "cell_type": "code",
   "execution_count": null,
   "id": "ea177573",
   "metadata": {},
   "outputs": [],
   "source": [
    "for i in range(1,11):\n",
    "    print(even_odd(i))"
   ]
  },
  {
   "cell_type": "code",
   "execution_count": null,
   "id": "0956ecb6",
   "metadata": {},
   "outputs": [],
   "source": [
    "list(map(even_odd,range(1,10))) # achiving same with map"
   ]
  },
  {
   "cell_type": "code",
   "execution_count": null,
   "id": "ca281185",
   "metadata": {},
   "outputs": [],
   "source": [
    "list(map(str.upper,[\"a\",\"b\",\"c\",\"d\"]))"
   ]
  },
  {
   "cell_type": "code",
   "execution_count": null,
   "id": "3466c009",
   "metadata": {},
   "outputs": [],
   "source": [
    "nums=[10,20,30]\n",
    "Result=list(map(str,nums))\n",
    "Result"
   ]
  },
  {
   "cell_type": "code",
   "execution_count": null,
   "id": "278081d4",
   "metadata": {},
   "outputs": [],
   "source": [
    "words=[\"data\",\"engineering\",\"ai\",\"ml\"]\n",
    "result=list(map(len,words))\n",
    "print(result)"
   ]
  },
  {
   "cell_type": "code",
   "execution_count": null,
   "id": "83810797",
   "metadata": {},
   "outputs": [],
   "source": [
    "def add_dollar(n):\n",
    "    return f\"${n}\"\n",
    "nums=[100,250,999]\n",
    "result=list(map(add_dollar,nums))\n",
    "print(result)"
   ]
  },
  {
   "cell_type": "code",
   "execution_count": null,
   "id": "1817b1b9",
   "metadata": {},
   "outputs": [],
   "source": [
    "#lamda expression\n",
    "add=lambda x,y:x+y\n",
    "add(2,3)"
   ]
  },
  {
   "cell_type": "code",
   "execution_count": null,
   "id": "bde3a6dd",
   "metadata": {},
   "outputs": [],
   "source": [
    "even_odd=lambda x: True if x%2==0 else False\n",
    "even_odd(20)"
   ]
  },
  {
   "cell_type": "code",
   "execution_count": null,
   "id": "f1f0e70b",
   "metadata": {},
   "outputs": [],
   "source": [
    "def even_odd(x):\n",
    "    if x%2==0:\n",
    "        return True\n",
    "    else:\n",
    "        return False\n",
    "even_odd(11)\n",
    "\n",
    "list(map(even_odd,[11,121,22,23,24]))\n"
   ]
  },
  {
   "cell_type": "code",
   "execution_count": null,
   "id": "1278fe68",
   "metadata": {},
   "outputs": [],
   "source": [
    "list(map(lambda x: True if x%2==0 else False ,[11,121,22,23,24]))"
   ]
  },
  {
   "cell_type": "code",
   "execution_count": null,
   "id": "07a8a769",
   "metadata": {},
   "outputs": [],
   "source": [
    "even_odd=lambda x: True if x%2 ==0 else False\n",
    "even_odd(10)"
   ]
  },
  {
   "cell_type": "code",
   "execution_count": null,
   "id": "7bf02651",
   "metadata": {},
   "outputs": [],
   "source": [
    "even_odd3=list(map(lambda x: True if x%2 ==0 else False,[10,11]))\n",
    "even_odd3"
   ]
  },
  {
   "cell_type": "code",
   "execution_count": null,
   "id": "51c14502",
   "metadata": {},
   "outputs": [],
   "source": [
    "nums=[1,2,3,4.5]\n",
    "result=list(map(lambda x: x**2,nums))\n",
    "print(result)"
   ]
  },
  {
   "cell_type": "code",
   "execution_count": null,
   "id": "10271c6e",
   "metadata": {},
   "outputs": [],
   "source": [
    "marks=[95,67,80,45,72]\n",
    "''\n",
    "result=list(map(lambda m : \"A++\" if m>=90 else \n",
    "                            \"A+\" if m>=75 else \n",
    "                             \"B\" if m >=60 else \n",
    "                             \"Fail\",marks))\n",
    "print(result)"
   ]
  },
  {
   "cell_type": "code",
   "execution_count": null,
   "id": "a958b247",
   "metadata": {},
   "outputs": [],
   "source": [
    "emails=[\"user1@gmail.com\",\"user2@yahoo.com\",\"user2@outlook.com\"]\n",
    "result=list(map(lambda e : e.split(\"@\")[1],emails))\n",
    "result"
   ]
  },
  {
   "cell_type": "code",
   "execution_count": null,
   "id": "52250592",
   "metadata": {},
   "outputs": [],
   "source": [
    "emails=[\"user1@gmail.com\",\"user2@yahoo.com\",\"user2@outlook.com\"]\n",
    "result=list(map(lambda e : e.split(\"@\")[1].split(\".\")[0],emails))\n",
    "result"
   ]
  },
  {
   "cell_type": "code",
   "execution_count": null,
   "id": "f425aa4f",
   "metadata": {},
   "outputs": [],
   "source": [
    "nums=[5,45,123,9]\n",
    "\n",
    "result=list(map(lambda n: str(n).zfill(4),nums))\n",
    "print(result)"
   ]
  },
  {
   "cell_type": "code",
   "execution_count": null,
   "id": "62f7365a",
   "metadata": {},
   "outputs": [],
   "source": [
    "cards=[\"1234567812345678\",\"987654322345678\"]\n",
    "result=list(map(lambda c : \"*\" * 12 + c[-4:],cards))\n",
    "result"
   ]
  },
  {
   "cell_type": "code",
   "execution_count": null,
   "id": "21a1ed62",
   "metadata": {},
   "outputs": [],
   "source": [
    "titles=['Python Basics',\"Azure Data Engineering\",\"AI & ML Course\"]\n",
    "result=list(map(lambda t : t.lower().replace(\" \",\"-\").replace(\"&\",\"and\"),titles))\n",
    "print(result)"
   ]
  },
  {
   "cell_type": "code",
   "execution_count": null,
   "id": "cf43e32c",
   "metadata": {},
   "outputs": [],
   "source": [
    "amounts=[100,500,1000]\n",
    "convert=lambda amt,**kwargs:amt * kwargs.get('rate',1) #2 argumnets, one is amt and one is kewbord aruments  , \n",
    "#below has given same code with def\n",
    "result=list(map(lambda a: convert(a,rate=84.5),amounts))\n",
    "print(result)\n"
   ]
  },
  {
   "cell_type": "code",
   "execution_count": null,
   "id": "48174a55",
   "metadata": {},
   "outputs": [],
   "source": [
    "def convert(amt, **kwargs):\n",
    "    return amt * kwargs.get('rate', 1)"
   ]
  },
  {
   "cell_type": "code",
   "execution_count": null,
   "id": "d8dc1fe9",
   "metadata": {},
   "outputs": [],
   "source": [
    "nums=[1,2,3,4,5]\n",
    "result=list(map(lambda y: y+10,nums))\n",
    "result"
   ]
  },
  {
   "cell_type": "code",
   "execution_count": null,
   "id": "1e4a2ba9",
   "metadata": {},
   "outputs": [],
   "source": [
    "nums=[1,2,3,4,5] # need more info on lambda\n",
    "list(map(lambda x: (lambda y: x+10)(10),nums))\n"
   ]
  },
  {
   "cell_type": "code",
   "execution_count": null,
   "id": "555311d3",
   "metadata": {},
   "outputs": [],
   "source": [
    "x=[1,2,3,4,5] # map give all output based on condtion\n",
    "list(map(lambda x: True if x%2==0 else False,x))"
   ]
  },
  {
   "cell_type": "markdown",
   "id": "2bb41e6a",
   "metadata": {},
   "source": [
    "Filter : only True Elements"
   ]
  },
  {
   "cell_type": "code",
   "execution_count": null,
   "id": "2b5a4dee",
   "metadata": {},
   "outputs": [],
   "source": [
    "x=[1,2,3,4,5] # it will give only true elements\n",
    "list(filter(lambda x: True if x%2==0 else False,x))"
   ]
  },
  {
   "cell_type": "code",
   "execution_count": null,
   "id": "85c9abcd",
   "metadata": {},
   "outputs": [],
   "source": [
    "nums=[1,2,3,4,5,6]\n",
    "list(map(lambda x:(lambda y:x+y)(10),nums))\n"
   ]
  },
  {
   "cell_type": "code",
   "execution_count": null,
   "id": "df4d9653",
   "metadata": {},
   "outputs": [],
   "source": [
    "nums=[1,2,3,4,5,6]\n",
    "result=list(filter(lambda x: x%2 !=0,nums))\n",
    "print(result)"
   ]
  },
  {
   "cell_type": "code",
   "execution_count": null,
   "id": "8c6fd0d6",
   "metadata": {},
   "outputs": [],
   "source": [
    "words = [\"Python\",\"AI\",\"Azure\",\"Data\",\"Engneering\"]\n",
    "result=list(filter(lambda w: len(w)>5,words))\n",
    "print(result)"
   ]
  },
  {
   "cell_type": "code",
   "execution_count": null,
   "id": "45ca6912",
   "metadata": {},
   "outputs": [],
   "source": [
    "words=[\"Python\",\"\",\"Azure\",\"\",\"Data\"]\n",
    "result=list(filter(lambda w: w!= '',words))\n",
    "print(result)"
   ]
  },
  {
   "cell_type": "code",
   "execution_count": null,
   "id": "02446d9f",
   "metadata": {},
   "outputs": [],
   "source": [
    "emails=[\"bharth@gmail.com\",\"anusha@yahoo.com\",\"kiran@gmail.com\"]\n",
    "\n",
    "result=list(filter(lambda e :e.endswith(\"gmail.com\"),emails))\n",
    "print(result)"
   ]
  },
  {
   "cell_type": "code",
   "execution_count": 28,
   "id": "b216082c",
   "metadata": {},
   "outputs": [
    {
     "name": "stdout",
     "output_type": "stream",
     "text": [
      "[50, 65, 80]\n"
     ]
    }
   ],
   "source": [
    "marks=[35,50,65,20,80]\n",
    "\n",
    "result=list(filter(lambda m: m>=40,marks))\n",
    "print(result)"
   ]
  },
  {
   "cell_type": "code",
   "execution_count": 39,
   "id": "8e369beb",
   "metadata": {},
   "outputs": [
    {
     "name": "stdout",
     "output_type": "stream",
     "text": [
      "['apple', 'apricot']\n"
     ]
    }
   ],
   "source": [
    "words=[\"apple\",\"banana\",\"apricot\",\"cherry\"]\n",
    "\n",
    "starts_with=lambda w,**kwargs : w.startswith(kwargs.get(\"prefix\",\"a\"))\n",
    "result = list(filter(lambda w: starts_with(w,prefix=\"ap\"),words))\n",
    "print(result)"
   ]
  }
 ],
 "metadata": {
  "kernelspec": {
   "display_name": "Python 3",
   "language": "python",
   "name": "python3"
  },
  "language_info": {
   "codemirror_mode": {
    "name": "ipython",
    "version": 3
   },
   "file_extension": ".py",
   "mimetype": "text/x-python",
   "name": "python",
   "nbconvert_exporter": "python",
   "pygments_lexer": "ipython3",
   "version": "3.13.7"
  }
 },
 "nbformat": 4,
 "nbformat_minor": 5
}
