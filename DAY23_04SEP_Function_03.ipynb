{
 "cells": [
  {
   "cell_type": "code",
   "execution_count": null,
   "id": "8eba7cf0",
   "metadata": {},
   "outputs": [],
   "source": [
    "x=10\n",
    "def function1():\n",
    "    print(\"vlaue of x is\",x)\n",
    "\n",
    "function1()"
   ]
  },
  {
   "cell_type": "code",
   "execution_count": null,
   "id": "f2f2b464",
   "metadata": {},
   "outputs": [],
   "source": [
    "x=100\n",
    "def show():\n",
    "    x=50\n",
    "    print('Inside  function:',x)\n",
    "\n",
    "show()\n",
    "print(\"Outside function:\",x)"
   ]
  },
  {
   "cell_type": "code",
   "execution_count": null,
   "id": "ff177ea1",
   "metadata": {},
   "outputs": [],
   "source": [
    "def add():\n",
    "    a=10\n",
    "    b=20\n",
    "    return a+b\n",
    "\n",
    "print(add())\n",
    "print(a)"
   ]
  },
  {
   "cell_type": "code",
   "execution_count": null,
   "id": "27f690e6",
   "metadata": {},
   "outputs": [],
   "source": [
    "def outer():\n",
    "    message =\"Hello\"\n",
    "    def inner():\n",
    "        print(message)\n",
    "    inner()\n",
    "outer()"
   ]
  },
  {
   "cell_type": "code",
   "execution_count": null,
   "id": "e86f12c0",
   "metadata": {},
   "outputs": [],
   "source": [
    "message=\"test\"\n",
    "def outer():\n",
    "    message =\"hello\"\n",
    "    def inner():\n",
    "        message=\"abc\"\n",
    "        print(message)\n",
    "    inner()\n",
    "outer()"
   ]
  },
  {
   "cell_type": "code",
   "execution_count": null,
   "id": "90ab4b48",
   "metadata": {},
   "outputs": [],
   "source": [
    "def function1(x):\n",
    "    def function2():\n",
    "        return \"function2\"\n",
    "    def function3():\n",
    "        return 'function3'\n",
    "    if x%2 ==0:\n",
    "        return function2()\n",
    "    else:\n",
    "        return function3()\n",
    "function1(10)"
   ]
  },
  {
   "cell_type": "code",
   "execution_count": null,
   "id": "d737dac2",
   "metadata": {},
   "outputs": [],
   "source": [
    "def calculator (a,b):\n",
    "    def add(): return a+b\n",
    "    def sub(): return a-b\n",
    "    def mul(): return a*b\n",
    "    def div(): return a/b if b!=0 else \"Divide by zero\"\n",
    "    return add(), sub(),mul(), div()\n",
    "print(calculator(10,5))"
   ]
  },
  {
   "cell_type": "code",
   "execution_count": null,
   "id": "c66020cf",
   "metadata": {},
   "outputs": [],
   "source": [
    "text1='arvind'\n",
    "def text_processor(sentence):\n",
    "    def clean(text):\n",
    "        return text.lower().replace(\".\",\"\").replace(\",\",\"\")\n",
    "    def count_words(text):\n",
    "        return len(text.split(\",\"))\n",
    "    cleaned=clean(sentence)\n",
    "    return cleaned, count_words(cleaned)\n",
    "\n",
    "print(text_processor(\"helllo, Python World.\"))   "
   ]
  },
  {
   "cell_type": "code",
   "execution_count": null,
   "id": "cfebb088",
   "metadata": {},
   "outputs": [],
   "source": [
    "def text_processor(sentence):\n",
    "    def clean(text):\n",
    "        return text.lower().replace(\".\",\"\").replace(\",\",\"\")\n",
    "    def count_words(text):\n",
    "        return len(text.split(\",\"))\n",
    "    cleaned=clean(sentence)\n",
    "    return cleaned, count_words(cleaned)\n",
    "\n",
    "print(text_processor(\"helllo, Python World.\"))   "
   ]
  },
  {
   "cell_type": "code",
   "execution_count": null,
   "id": "0523c6d8",
   "metadata": {},
   "outputs": [],
   "source": [
    "def power_fun(exp):\n",
    "    def inner(base):\n",
    "        return base ** exp\n",
    "    return inner\n",
    "\n",
    "square=power_fun(2)\n",
    "cube=power_fun(3)\n",
    "print(square(5),cube(2))\n",
    "    "
   ]
  },
  {
   "cell_type": "markdown",
   "id": "66b508bd",
   "metadata": {},
   "source": [
    "Step-by-step flow\n",
    "1. power_fun(2) is called\n",
    "\n",
    "exp = 2\n",
    "\n",
    "Inside power_fun, Python defines the function inner(base) but does not run it yet.\n",
    "\n",
    "inner has access to exp = 2 even after power_fun finishes (this is the closure).\n",
    "\n",
    "power_fun(2) returns the function inner, with exp remembered as 2.\n",
    "\n",
    "So now:\n",
    "\n",
    "square = inner  # but with exp fixed to 2\n",
    "\n",
    "2. power_fun(3) is called\n",
    "\n",
    "exp = 3\n",
    "\n",
    "Again, a new inner(base) is created, this time remembering exp = 3.\n",
    "\n",
    "power_fun(3) returns this new function.\n",
    "\n",
    "So now:\n",
    "\n",
    "cube = inner  # but with exp fixed to 3\n",
    "\n",
    "3. square(5) is executed\n",
    "\n",
    "That calls the inner function created when exp = 2.\n",
    "\n",
    "So inside inner:\n",
    "\n",
    "base = 5\n",
    "\n",
    "exp = 2 (remembered from closure)\n",
    "\n",
    "returns 5 ** 2 = 25.\n",
    "\n",
    "4. cube(2) is executed\n",
    "\n",
    "That calls the other inner function created when exp = 3.\n",
    "\n",
    "So inside inner:\n",
    "\n",
    "base = 2\n",
    "\n",
    "exp = 3\n",
    "\n",
    "returns 2 ** 3 = 8.\n",
    "\n",
    "5. Final print\n",
    "print(square(5), cube(2)) \n",
    "# → print(25, 8)"
   ]
  },
  {
   "cell_type": "code",
   "execution_count": 37,
   "id": "373e4b29",
   "metadata": {},
   "outputs": [
    {
     "name": "stdout",
     "output_type": "stream",
     "text": [
      "{'A': 1, 'B': 0}\n",
      "{'A': 1, 'B': 1}\n",
      "{'A': 2, 'B': 1}\n",
      "{'A': 3, 'B': 1}\n"
     ]
    }
   ],
   "source": [
    "votes ={\"A\":0,\"B\":0}\n",
    "def voting_system():\n",
    "    def vote(candidate):\n",
    "        if candidate in votes:\n",
    "            #votes[candidate] +=1\n",
    "            votes[candidate] =votes[candidate] + 1\n",
    "        return votes \n",
    "    return vote\n",
    "vote=voting_system()\n",
    "\n",
    "print(vote(\"A\"))\n",
    "print(vote(\"B\"))\n",
    "print(vote(\"A\"))\n",
    "print(vote(\"A\"))"
   ]
  },
  {
   "cell_type": "markdown",
   "id": "fc1baf7c",
   "metadata": {},
   "source": [
    "Outer function (voting_system, power_fun, etc.) = a factory\n",
    "\n",
    "Calling it (voting_system()) = produces an inner function that remembers variables from the outer scope\n",
    "\n",
    "Assigning it (vote = voting_system()) = gives you a usable function with its own private memory"
   ]
  },
  {
   "cell_type": "code",
   "execution_count": 38,
   "id": "ba504f58",
   "metadata": {},
   "outputs": [
    {
     "name": "stdout",
     "output_type": "stream",
     "text": [
      "1\n",
      "2\n",
      "3\n"
     ]
    }
   ],
   "source": [
    "def make_counter():\n",
    "    count = 0\n",
    "    def counter():\n",
    "        nonlocal count   # tell Python we want to modify the outer variable\n",
    "        count += 1\n",
    "        return count\n",
    "    return counter\n",
    "\n",
    "clicks = make_counter()\n",
    "\n",
    "print(clicks())  # 1\n",
    "print(clicks())  # 2\n",
    "print(clicks())  # 3\n"
   ]
  },
  {
   "cell_type": "code",
   "execution_count": null,
   "id": "d404c59d",
   "metadata": {},
   "outputs": [],
   "source": [
    "def bank_account(initial_balance=0):\n",
    "    balance = initial_balance\n",
    "    \n",
    "    def account(action, amount=0):\n",
    "        nonlocal balance\n",
    "        if action == \"deposit\":\n",
    "            balance += amount\n",
    "        elif action == \"withdraw\":\n",
    "            balance -= amount\n",
    "        return balance\n",
    "    \n",
    "    return account\n",
    "\n",
    "my_account = bank_account(100)\n",
    "print(my_account(\"deposit\", 50))   # 150\n",
    "print(my_account(\"withdraw\", 20))  # 130\n",
    "\n",
    "your_account = bank_account(500)\n",
    "print(your_account(\"withdraw\", 100))  # 400\n"
   ]
  },
  {
   "cell_type": "code",
   "execution_count": null,
   "id": "4c66a6a1",
   "metadata": {},
   "outputs": [],
   "source": [
    "def login_system(correct_password):\n",
    "    attempts = 0\n",
    "    def login(password):\n",
    "        nonlocal attempts\n",
    "        if password == correct_password:\n",
    "            return \"✅ Login successful\"\n",
    "        else:\n",
    "            attempts += 1\n",
    "            if attempts >= 3:\n",
    "                return \"❌ Account locked\"\n",
    "            return f\"❌ Wrong password, attempt {attempts}\"\n",
    "    return login\n",
    "\n",
    "login = login_system(\"python123\")\n",
    "\n",
    "print(login(\"java\"))      # Wrong password, attempt 1\n",
    "print(login(\"c++\"))       # Wrong password, attempt 2\n",
    "print(login(\"golang\"))    # Account locked\n",
    "print(login(\"python123\")) # Still locked\n"
   ]
  },
  {
   "cell_type": "code",
   "execution_count": null,
   "id": "127cfa8e",
   "metadata": {},
   "outputs": [],
   "source": []
  }
 ],
 "metadata": {
  "kernelspec": {
   "display_name": "Python 3",
   "language": "python",
   "name": "python3"
  },
  "language_info": {
   "codemirror_mode": {
    "name": "ipython",
    "version": 3
   },
   "file_extension": ".py",
   "mimetype": "text/x-python",
   "name": "python",
   "nbconvert_exporter": "python",
   "pygments_lexer": "ipython3",
   "version": "3.13.7"
  }
 },
 "nbformat": 4,
 "nbformat_minor": 5
}
