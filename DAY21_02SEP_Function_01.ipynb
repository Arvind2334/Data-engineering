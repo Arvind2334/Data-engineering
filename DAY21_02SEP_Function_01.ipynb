{
 "cells": [
  {
   "cell_type": "code",
   "execution_count": null,
   "id": "7fe3f431",
   "metadata": {},
   "outputs": [],
   "source": [
    "def add(x,y):\n",
    "    print(x * y)\n",
    "add(2,3)\n",
    "add(\"data \", 4)"
   ]
  },
  {
   "cell_type": "code",
   "execution_count": null,
   "id": "230b7bd0",
   "metadata": {},
   "outputs": [],
   "source": [
    "def functionname():\n",
    "    x=10\n",
    "    x=20\n",
    "    x=x+10\n",
    "    print(x)\n",
    "functionname()"
   ]
  },
  {
   "cell_type": "code",
   "execution_count": null,
   "id": "e0ebc55a",
   "metadata": {},
   "outputs": [],
   "source": [
    "def add(x,y):\n",
    "    print(x * y)\n",
    "add(10,20)"
   ]
  },
  {
   "cell_type": "code",
   "execution_count": null,
   "id": "7d68fe1f",
   "metadata": {},
   "outputs": [],
   "source": [
    "add(\"data\" ,\"science\")"
   ]
  },
  {
   "cell_type": "code",
   "execution_count": null,
   "id": "a9e8f2fc",
   "metadata": {},
   "outputs": [],
   "source": [
    "#load data\n",
    "from pandas import read_csv, read_excel\n",
    "def load_data(type_of_data):\n",
    "    if type_of_data == \"csv\":\n",
    "        read_csv()\n",
    "    else:\n",
    "        read_excel()"
   ]
  },
  {
   "cell_type": "code",
   "execution_count": null,
   "id": "ab6e1185",
   "metadata": {},
   "outputs": [],
   "source": [
    "### transformations\n",
    "\n",
    "def function(columns,transformations):\n",
    "    print(1/columns)"
   ]
  },
  {
   "cell_type": "code",
   "execution_count": null,
   "id": "ec201a8b",
   "metadata": {},
   "outputs": [],
   "source": [
    "def function1(x,y):\n",
    "    print (x+y)\n",
    "    return(x+y)"
   ]
  },
  {
   "cell_type": "code",
   "execution_count": null,
   "id": "29263287",
   "metadata": {},
   "outputs": [],
   "source": [
    "print(function1(20,200))"
   ]
  },
  {
   "cell_type": "code",
   "execution_count": null,
   "id": "ec7688e0",
   "metadata": {},
   "outputs": [],
   "source": [
    "def function2(x,y):\n",
    "    return(x+y)\n",
    "    print(x+y)"
   ]
  },
  {
   "cell_type": "code",
   "execution_count": null,
   "id": "54d89625",
   "metadata": {},
   "outputs": [],
   "source": [
    "print(function1(10,200))\n",
    "print(function2(10,2000))"
   ]
  },
  {
   "cell_type": "code",
   "execution_count": null,
   "id": "65a53e08",
   "metadata": {},
   "outputs": [],
   "source": [
    "%pip install matplotlib\n",
    "import matplotlib.pyplot as plt\n",
    "# Since there's no DataFrame 'df' or 'columnname' defined in previous cells, \n",
    "# let's create some sample data\n",
    "import numpy as np\n",
    "data = np.random.rand(5)\n",
    "plt.bar(range(len(data)), data)\n",
    "plt.show()"
   ]
  },
  {
   "cell_type": "code",
   "execution_count": null,
   "id": "1183003f",
   "metadata": {},
   "outputs": [],
   "source": [
    "# null value treatment \n",
    "#outlier\n",
    "#label encoding\n",
    "#dummy variables \n",
    "#min max scaling"
   ]
  },
  {
   "cell_type": "code",
   "execution_count": null,
   "id": "918b5170",
   "metadata": {},
   "outputs": [],
   "source": [
    "%pip install --force-reinstall pandas\n",
    "%pip install openpyxl"
   ]
  },
  {
   "cell_type": "code",
   "execution_count": null,
   "id": "b0f276be",
   "metadata": {},
   "outputs": [],
   "source": [
    "%pip install --upgrade pandas numpy pytz python-dateutil\n",
    "%pip install --upgrade openpyxl xlrd"
   ]
  },
  {
   "cell_type": "code",
   "execution_count": null,
   "id": "34e67c84",
   "metadata": {},
   "outputs": [],
   "source": [
    "# Restart kernel after installations, then run:\n",
    "import pandas as pd\n",
    "df = pd.read_excel(\"D:/Data_Eng_aug2025/Day21_SEP02/Source Sales Data.xls\")\n",
    "df.columns"
   ]
  },
  {
   "cell_type": "code",
   "execution_count": null,
   "id": "3f52a455",
   "metadata": {},
   "outputs": [],
   "source": [
    "import matplotlib.pyplot as plt\n",
    "def visualization(coumnname):\n",
    "    plt.bar(df[coumnname],height=0.5,width=0.9)\n",
    "visualization('Profit')"
   ]
  },
  {
   "cell_type": "code",
   "execution_count": null,
   "id": "b6f50b01",
   "metadata": {},
   "outputs": [],
   "source": [
    "path='D:/Data_Eng_aug2025/Day21_SEP02/Source Sales Data.xls'\n",
    "def analysis(path):\n",
    "    df=pd.read_excel(path)\n",
    "    print(\"********\")\n",
    "    print(df.columns)\n",
    "    print(df.shape)\n",
    "    print(df.columns)\n",
    "    print(\"********\")\n",
    "    print(df.describe())\n",
    "    print(df.isna().sum())S\n",
    "    print(df.describe(include='object'))\n",
    "analysis(path)"
   ]
  },
  {
   "cell_type": "code",
   "execution_count": null,
   "id": "50749d62",
   "metadata": {},
   "outputs": [],
   "source": [
    "#postional based arguments \n",
    "def order(item,quantity):\n",
    "    print(f\"{item},quntity:{quantity\")"
   ]
  },
  {
   "cell_type": "code",
   "execution_count": null,
   "id": "427e02fd",
   "metadata": {},
   "outputs": [],
   "source": [
    "#Keyword based arguments\n",
    "order(quantity=10,item='laptops')"
   ]
  },
  {
   "cell_type": "code",
   "execution_count": null,
   "id": "188b5447",
   "metadata": {},
   "outputs": [],
   "source": [
    "def order(*args):\n",
    "    print(args)"
   ]
  },
  {
   "cell_type": "code",
   "execution_count": null,
   "id": "2f19d7f0",
   "metadata": {},
   "outputs": [],
   "source": [
    "order(10,20,30,40,50)"
   ]
  },
  {
   "cell_type": "code",
   "execution_count": null,
   "id": "4660d714",
   "metadata": {},
   "outputs": [],
   "source": [
    "def orderorfer(*args):\n",
    "    print(args[-1])"
   ]
  },
  {
   "cell_type": "code",
   "execution_count": null,
   "id": "d9c98dda",
   "metadata": {},
   "outputs": [],
   "source": [
    "def add_numbers(*args):\n",
    "    return sum(args)\n",
    "print(add_numbers(10,20,30))\n",
    "print(add_numbers(5,15))"
   ]
  },
  {
   "cell_type": "code",
   "execution_count": null,
   "id": "9cf93316",
   "metadata": {},
   "outputs": [],
   "source": [
    "def find_max(*args):\n",
    "    return max(12,45,7,89,23)\n",
    "\n",
    "print(find_max(12,45,7,89,23))"
   ]
  },
  {
   "cell_type": "code",
   "execution_count": null,
   "id": "e90aad6b",
   "metadata": {},
   "outputs": [],
   "source": [
    "def find_min(*args):\n",
    "    return min(12,45,7,89,23)\n",
    "\n",
    "print(find_min(12,45,7,89,23))"
   ]
  },
  {
   "cell_type": "code",
   "execution_count": null,
   "id": "53319061",
   "metadata": {},
   "outputs": [],
   "source": [
    "def greet(*args):\n",
    "    for name in args:\n",
    "        print(f\"Hello,{name}!\")\n",
    "        \n",
    "greet(\"Alice\",\"Bob\",\"Charlie\")"
   ]
  },
  {
   "cell_type": "code",
   "execution_count": null,
   "id": "d0adb2c6",
   "metadata": {},
   "outputs": [],
   "source": [
    "def greet1(*args):\n",
    "    for name in args:\n",
    "        print(f\"Hello, {name[0]}!\")\n",
    "\n",
    "greet1(\"Alice\",\"Bob\",\"Charlie\")"
   ]
  },
  {
   "cell_type": "code",
   "execution_count": null,
   "id": "aade4ea0",
   "metadata": {},
   "outputs": [],
   "source": [
    "def cart_items(*args):\n",
    "    print(\"Item in carts:\",args)\n",
    "\n",
    "cart_items(\"Laptop\",'Phone','Headphones')"
   ]
  },
  {
   "cell_type": "code",
   "execution_count": null,
   "id": "9a599935",
   "metadata": {},
   "outputs": [],
   "source": [
    "def multiple(*args):\n",
    "    res=1\n",
    "    for i in args:\n",
    "        res=res*i\n",
    "    return res"
   ]
  },
  {
   "cell_type": "markdown",
   "id": "4be7480c",
   "metadata": {},
   "source": [
    "Write a function sum_all(*args) that returns the sum of all numbers passed.\n",
    "\n",
    "Write a function concat_strings(*args) that joins all string arguments into one string.\n",
    "\n",
    "Write a function max_number(*args) that returns the maximum value passed.\n",
    "\n",
    "Write a function unpack_args(*args) that takes nested lists/tuples and flattens them.\n",
    "\n",
    "What happens if you pass a list directly vs. using unpacking (*list) when calling a function with *args? Show with an example.\n",
    "\n",
    "Write a function reverse_args(*args) that prints arguments in reverse order.\n",
    "\n",
    "What will be the output?"
   ]
  },
  {
   "cell_type": "code",
   "execution_count": null,
   "id": "840fce4b",
   "metadata": {},
   "outputs": [],
   "source": [
    "#Write a function sum_all(*args) that returns the sum of all numbers passed.\n",
    "def sum_al(*args):\n",
    "    return sum(args)\n",
    "sum_al(10,10,10,10,10)"
   ]
  },
  {
   "cell_type": "code",
   "execution_count": 59,
   "id": "f452a909",
   "metadata": {},
   "outputs": [
    {
     "data": {
      "text/plain": [
       "'Arvind Kumar Singh Yadav '"
      ]
     },
     "execution_count": 59,
     "metadata": {},
     "output_type": "execute_result"
    }
   ],
   "source": [
    "#Write a function concat_strings(*args) that joins all string arguments into one string.\n",
    "\n",
    "def string_con(*args):\n",
    "    res=''\n",
    "    for i in args:\n",
    "        res=res +i + \" \"\n",
    "    return res.title()\n",
    "string_con('arvind','kumar','singh','yadav')   "
   ]
  },
  {
   "cell_type": "code",
   "execution_count": 89,
   "id": "cca5d341",
   "metadata": {},
   "outputs": [
    {
     "data": {
      "text/plain": [
       "111"
      ]
     },
     "execution_count": 89,
     "metadata": {},
     "output_type": "execute_result"
    }
   ],
   "source": [
    "#Write a function max_number(*args) that returns the maximum value passed.\n",
    "\n",
    "def max_number(*args):\n",
    "    return max(args)\n",
    "max_number(20,30,40,50,111)"
   ]
  },
  {
   "cell_type": "code",
   "execution_count": null,
   "id": "3280bda9",
   "metadata": {},
   "outputs": [
    {
     "data": {
      "text/plain": [
       "'cba'"
      ]
     },
     "execution_count": 94,
     "metadata": {},
     "output_type": "execute_result"
    }
   ],
   "source": [
    "# Write a function reverse_args(*args) that prints arguments in reverse order.\n",
    "#What will be the output?\n",
    "\n",
    "def reverse_args(args):\n",
    "    return args[: :-1]\n",
    "\n",
    "reverse_args('abc')"
   ]
  }
 ],
 "metadata": {
  "kernelspec": {
   "display_name": "Python 3",
   "language": "python",
   "name": "python3"
  },
  "language_info": {
   "codemirror_mode": {
    "name": "ipython",
    "version": 3
   },
   "file_extension": ".py",
   "mimetype": "text/x-python",
   "name": "python",
   "nbconvert_exporter": "python",
   "pygments_lexer": "ipython3",
   "version": "3.13.7"
  }
 },
 "nbformat": 4,
 "nbformat_minor": 5
}
