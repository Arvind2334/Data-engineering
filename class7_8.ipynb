{
 "cells": [
  {
   "cell_type": "code",
   "execution_count": null,
   "id": "c2aad020",
   "metadata": {},
   "outputs": [],
   "source": [
    "# [1,3,5,7,9]\n",
    "\n",
    "x=1\n",
    "while x<=9:\n",
    "    print(x)\n",
    "    x=x+2"
   ]
  },
  {
   "cell_type": "code",
   "execution_count": null,
   "id": "88582abc",
   "metadata": {},
   "outputs": [],
   "source": [
    "\n",
    "x=\"data Science\"\n",
    "l=len(x)\n",
    "i=0\n",
    "while i<l+1:\n",
    "    print(x[:i])\n",
    "    i=i+1"
   ]
  },
  {
   "cell_type": "code",
   "execution_count": null,
   "id": "a767372b",
   "metadata": {},
   "outputs": [],
   "source": [
    "x=5\n",
    "while x>0:\n",
    "    print(\"*\" * x)\n",
    "    x=x-1"
   ]
  },
  {
   "cell_type": "code",
   "execution_count": null,
   "id": "5a0226ab",
   "metadata": {},
   "outputs": [],
   "source": [
    "\n",
    "i=1\n",
    "odd=[]\n",
    "even=[]\n",
    "while i<=10:\n",
    "    if i % 2 != 0:\n",
    "        odd.append(i)\n",
    "    else:\n",
    "        even.append(i)\n",
    "    i=i+1\n",
    "print(odd,even)"
   ]
  },
  {
   "cell_type": "code",
   "execution_count": null,
   "id": "5b0745b7",
   "metadata": {},
   "outputs": [],
   "source": [
    "list=[1,2,3,4]\n",
    "i=0\n",
    "while i<=3:\n",
    "    print(list[i])\n",
    "    i=i+1"
   ]
  },
  {
   "cell_type": "code",
   "execution_count": null,
   "id": "5480ea2c",
   "metadata": {},
   "outputs": [],
   "source": [
    "for i in range(1,10):\n",
    "    if i==5:\n",
    "        break\n",
    "    print(i)"
   ]
  },
  {
   "cell_type": "code",
   "execution_count": null,
   "id": "1f69dccc",
   "metadata": {},
   "outputs": [],
   "source": [
    "for i in range(1,10):\n",
    "    if i==5:\n",
    "        continue\n",
    "    print(i)"
   ]
  },
  {
   "cell_type": "code",
   "execution_count": null,
   "id": "f0ee8b54",
   "metadata": {},
   "outputs": [],
   "source": [
    "\n",
    "for i in range(1,11):\n",
    "    for j in range(1,11):\n",
    "        print(f\" {i} multply by {j} equal to {i*j}\")"
   ]
  },
  {
   "cell_type": "code",
   "execution_count": null,
   "id": "e6b69ac1",
   "metadata": {},
   "outputs": [],
   "source": [
    "for i in range(0,5):\n",
    "    for j in range(0,5):\n",
    "        if j==2:\n",
    "            continue\n",
    "        print(i ,j)"
   ]
  },
  {
   "cell_type": "code",
   "execution_count": null,
   "id": "1b53f6b5",
   "metadata": {},
   "outputs": [],
   "source": [
    "x=[1,22,3,22,44,45,61,72,822,91,102]\n",
    "# while loop add all odd numbers /add all even number\n",
    "odd=[]\n",
    "even=[]\n",
    "var=0\n",
    "while var <10:\n",
    "    if x[var]%2==0:\n",
    "        even.append(x[var])\n",
    "    else:\n",
    "        odd.append(x[var])\n",
    "    var=var+1\n",
    "print(\" Odd Numbers: =\",odd,'\\n',\"Even Numbers =\",even)"
   ]
  },
  {
   "cell_type": "code",
   "execution_count": null,
   "id": "19542fe1",
   "metadata": {},
   "outputs": [],
   "source": [
    "x=[1,22,3,22,44,45,61,72,822,91,102]\n",
    "var=0\n",
    "even_sum=0\n",
    "odd_sum=0\n",
    "while var<10:\n",
    "    if x[var] %2 ==0:\n",
    "        even_sum=even_sum+x[var]\n",
    "    else:\n",
    "        odd_sum=odd_sum+x[var]\n",
    "    var=var+1\n",
    "print(f\"sum of even numers are {even_sum} and sum of odd numbers are {odd_sum}.\")"
   ]
  },
  {
   "cell_type": "code",
   "execution_count": null,
   "id": "98de5a0a",
   "metadata": {},
   "outputs": [],
   "source": [
    "for i in range(1,10):\n",
    "    if i==5:\n",
    "        break # it will not print 5 onwords\n",
    "    print(i)"
   ]
  },
  {
   "cell_type": "code",
   "execution_count": null,
   "id": "6e263720",
   "metadata": {},
   "outputs": [],
   "source": [
    "for i in range(1,11): #1 2 3 4 5 6 7 8 9 10\n",
    "    if i==5:\n",
    "        continue # it will not print 5 ( skipped)\n",
    "    print(i,end=' ') #skiiped 5 \n",
    "    #1 2 3 4 6 7 8 9 10"
   ]
  },
  {
   "cell_type": "code",
   "execution_count": null,
   "id": "64537dbf",
   "metadata": {},
   "outputs": [],
   "source": [
    "for i in \"datascience\":\n",
    "    for j in \"data\":\n",
    "        if j ==\"t\":\n",
    "            break\n",
    "        print([i,j],end='')"
   ]
  },
  {
   "cell_type": "code",
   "execution_count": null,
   "id": "688ed696",
   "metadata": {},
   "outputs": [],
   "source": [
    "for i in \"datascience\":\n",
    "    for j in \"data\":\n",
    "        if j ==\"t\":\n",
    "            print([i,j],end='')\n",
    "            break"
   ]
  },
  {
   "cell_type": "code",
   "execution_count": null,
   "id": "a6c7a27c",
   "metadata": {},
   "outputs": [],
   "source": [
    "x=10\n",
    "c=0\n",
    "for i in range(1,6):\n",
    "    for j in range(0,20,5):\n",
    "        #print(j,end=\" \")\n",
    "        print(i,j)"
   ]
  }
 ],
 "metadata": {
  "kernelspec": {
   "display_name": "Python 3",
   "language": "python",
   "name": "python3"
  },
  "language_info": {
   "codemirror_mode": {
    "name": "ipython",
    "version": 3
   },
   "file_extension": ".py",
   "mimetype": "text/x-python",
   "name": "python",
   "nbconvert_exporter": "python",
   "pygments_lexer": "ipython3",
   "version": "3.13.7"
  }
 },
 "nbformat": 4,
 "nbformat_minor": 5
}
