{
 "cells": [
  {
   "cell_type": "code",
   "execution_count": null,
   "id": "6e07bd36",
   "metadata": {},
   "outputs": [],
   "source": [
    "import math\n",
    "print(math.e)"
   ]
  },
  {
   "cell_type": "code",
   "execution_count": null,
   "id": "b569e1ff",
   "metadata": {},
   "outputs": [],
   "source": [
    "math.inf"
   ]
  },
  {
   "cell_type": "code",
   "execution_count": null,
   "id": "22eb1d9a",
   "metadata": {},
   "outputs": [],
   "source": [
    "math.nan"
   ]
  },
  {
   "cell_type": "code",
   "execution_count": null,
   "id": "83c17603",
   "metadata": {},
   "outputs": [],
   "source": [
    "math.tau"
   ]
  },
  {
   "cell_type": "code",
   "execution_count": null,
   "id": "bc542c05",
   "metadata": {},
   "outputs": [],
   "source": [
    "math.floor(2.3)"
   ]
  },
  {
   "cell_type": "code",
   "execution_count": null,
   "id": "19370b8c",
   "metadata": {},
   "outputs": [],
   "source": [
    "math.ceil(2.3)"
   ]
  },
  {
   "cell_type": "code",
   "execution_count": null,
   "id": "fb8efc0e",
   "metadata": {},
   "outputs": [],
   "source": [
    "c1=10\n",
    "c2"
   ]
  },
  {
   "cell_type": "markdown",
   "id": "8512e8ab",
   "metadata": {},
   "source": [
    "cusomer sale units\n",
    "c1 : 10 : 11\n",
    "c2 : - 2\n",
    "c3 :20 3\n",
    "c4 40 44\n"
   ]
  },
  {
   "cell_type": "markdown",
   "id": "87816c05",
   "metadata": {},
   "source": []
  },
  {
   "cell_type": "code",
   "execution_count": null,
   "id": "8f4c26ca",
   "metadata": {},
   "outputs": [],
   "source": [
    "math.factorial(5)"
   ]
  },
  {
   "cell_type": "code",
   "execution_count": null,
   "id": "e00c9782",
   "metadata": {},
   "outputs": [],
   "source": [
    "math.log(10)"
   ]
  },
  {
   "cell_type": "code",
   "execution_count": null,
   "id": "aa20cd56",
   "metadata": {},
   "outputs": [],
   "source": [
    "math.log2(10)"
   ]
  },
  {
   "cell_type": "code",
   "execution_count": null,
   "id": "cd529780",
   "metadata": {},
   "outputs": [],
   "source": [
    "math.log10(10)\n"
   ]
  },
  {
   "cell_type": "code",
   "execution_count": null,
   "id": "74d7bba1",
   "metadata": {},
   "outputs": [],
   "source": [
    "math.exp(10)"
   ]
  },
  {
   "cell_type": "code",
   "execution_count": null,
   "id": "f3e7c848",
   "metadata": {},
   "outputs": [],
   "source": [
    "math.expm1(10)"
   ]
  },
  {
   "cell_type": "code",
   "execution_count": null,
   "id": "d2917c64",
   "metadata": {},
   "outputs": [],
   "source": [
    "math.gcd(16,24) # greated common devision"
   ]
  },
  {
   "cell_type": "code",
   "execution_count": null,
   "id": "95d2d895",
   "metadata": {},
   "outputs": [],
   "source": [
    "print(math.prod([1,2,3,\"data\"]))\n",
    "print(math.prod((1,2,3)))\n",
    "print(math.prod({1,2,3}))"
   ]
  },
  {
   "cell_type": "code",
   "execution_count": null,
   "id": "4dd1fdab",
   "metadata": {},
   "outputs": [],
   "source": [
    "print(math.sin(1))\n",
    "print(math.acos(1))\n",
    "print(math.tan(1))"
   ]
  },
  {
   "cell_type": "code",
   "execution_count": null,
   "id": "1307e41c",
   "metadata": {},
   "outputs": [],
   "source": [
    "#Pythagorean Theorem\n",
    "#c2=a2+b2\n",
    "a , b =2,3\n",
    "a=a**2\n",
    "b=b**2\n",
    "print(a*b)"
   ]
  },
  {
   "cell_type": "code",
   "execution_count": null,
   "id": "d5d1e242",
   "metadata": {},
   "outputs": [],
   "source": [
    "math.isnan(10)"
   ]
  },
  {
   "cell_type": "code",
   "execution_count": null,
   "id": "46bc7cff",
   "metadata": {},
   "outputs": [],
   "source": [
    "# inbluit functions"
   ]
  },
  {
   "cell_type": "code",
   "execution_count": null,
   "id": "4174cc56",
   "metadata": {},
   "outputs": [],
   "source": [
    "x=\"data\"\n",
    "print(x.upper())\n",
    "print(len(x))\n"
   ]
  },
  {
   "cell_type": "code",
   "execution_count": null,
   "id": "81f20ed0",
   "metadata": {},
   "outputs": [],
   "source": [
    "print(all([1,2,3]))\n",
    "print(all((False,1,\"yes\")))\n",
    "print(all({1,2,3}))\n",
    "print(all({\"a\":1,\"b\":0}))"
   ]
  },
  {
   "cell_type": "code",
   "execution_count": null,
   "id": "801d608e",
   "metadata": {},
   "outputs": [],
   "source": [
    "print(any([1,2,3]))\n",
    "print(any((False,1,\"yes\")))\n",
    "print(any({1,2,3}))\n",
    "print(any({\"a\":1,\"b\":0}))"
   ]
  },
  {
   "cell_type": "code",
   "execution_count": null,
   "id": "d53e64d3",
   "metadata": {},
   "outputs": [],
   "source": [
    "for i in range(65,91):\n",
    "    print(f\"{i} equals to {chr(i)}.\")\n",
    "    print(ord('a'))    "
   ]
  },
  {
   "cell_type": "code",
   "execution_count": null,
   "id": "9cd0907c",
   "metadata": {},
   "outputs": [],
   "source": [
    "x=[1,2,3]\n",
    "y=(1,2,3)\n",
    "z={1,2,3}\n",
    "print(min(x),max(x))\n",
    "print(min(y),max(y))\n",
    "print(min(z),max(z))"
   ]
  },
  {
   "cell_type": "code",
   "execution_count": null,
   "id": "43fb6692",
   "metadata": {},
   "outputs": [],
   "source": [
    "pow(2,3)"
   ]
  },
  {
   "cell_type": "code",
   "execution_count": null,
   "id": "8214c39f",
   "metadata": {},
   "outputs": [
    {
     "data": {
      "text/plain": [
       "[1, 2, 3, 22]"
      ]
     },
     "execution_count": 26,
     "metadata": {},
     "output_type": "execute_result"
    }
   ],
   "source": [
    "sorted([3,2,22,1],reverse=True) #des\n",
    "sorted([3,2,22,1]) #asc"
   ]
  },
  {
   "cell_type": "code",
   "execution_count": 35,
   "id": "0b194eee",
   "metadata": {},
   "outputs": [
    {
     "data": {
      "text/plain": [
       "[(1, 2), (2, 3)]"
      ]
     },
     "execution_count": 35,
     "metadata": {},
     "output_type": "execute_result"
    }
   ],
   "source": [
    "a=(1,2)\n",
    "b=(2,3,6)\n",
    "list(zip(a,b))"
   ]
  }
 ],
 "metadata": {
  "kernelspec": {
   "display_name": "Python 3",
   "language": "python",
   "name": "python3"
  },
  "language_info": {
   "codemirror_mode": {
    "name": "ipython",
    "version": 3
   },
   "file_extension": ".py",
   "mimetype": "text/x-python",
   "name": "python",
   "nbconvert_exporter": "python",
   "pygments_lexer": "ipython3",
   "version": "3.13.7"
  }
 },
 "nbformat": 4,
 "nbformat_minor": 5
}
