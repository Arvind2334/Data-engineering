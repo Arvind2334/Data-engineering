{
 "cells": [
  {
   "cell_type": "code",
   "execution_count": null,
   "id": "19eaac18",
   "metadata": {},
   "outputs": [],
   "source": [
    "# INTEGER DATATYPE ASSIGNMENT\n",
    "# ===========================\n",
    "\n",
    "# SOLVED EXAMPLE\n",
    "# --------------\n",
    "# Question: Calculate the sum of first 5 even numbers\n",
    "print(\"SOLVED EXAMPLE:\")\n",
    "print(\"Calculate the sum of first 5 even numbers\")\n",
    "first_5_even = [2, 4, 6, 8, 10]\n",
    "sum_even = sum(first_5_even)\n",
    "print(f\"First 5 even numbers: {first_5_even}\")\n",
    "print(f\"Sum: {sum_even}\")\n",
    "print(\"-\" * 50)"
   ]
  },
  {
   "cell_type": "code",
   "execution_count": null,
   "id": "dafc4934",
   "metadata": {},
   "outputs": [],
   "source": [
    "# ASSIGNMENT QUESTIONS\n",
    "# ===================\n",
    "\n",
    "# Question 1: Calculate the product of first 10 natural numbers\n",
    "print(\"Question 1: Calculate the product of first 10 natural numbers\")\n",
    "# Your code here\n",
    "import math\n",
    "natural_num=1,2,3,4,5,6,7,8,9,10\n",
    "prod_natr_num=math.prod(natural_num)\n",
    "print(f\"First 10 natual numbers are: {natural_num}\")\n",
    "prod_natr_num=math.prod(natural_num)\n",
    "print(f\"Product of first 10 natural numbers are: {prod_natr_num}\")"
   ]
  },
  {
   "cell_type": "code",
   "execution_count": 17,
   "id": "99a59637",
   "metadata": {},
   "outputs": [
    {
     "name": "stdout",
     "output_type": "stream",
     "text": [
      "\n",
      "Question 2: Find the remainder when 156 is divided by 7\n",
      "Number is: 156\n",
      "remainder of 156 after divided by 7 is 22.285714285714285.\n"
     ]
    }
   ],
   "source": [
    "# Question 2: Find the remainder when 156 is divided by 7\n",
    "print(\"\\nQuestion 2: Find the remainder when 156 is divided by 7\")\n",
    "# Your code here\n",
    "num=156\n",
    "remaninder=num/7\n",
    "print(f\"Number is: {num}\")\n",
    "print(f\"remainder of {num} after divided by 7 is {remaninder}.\")"
   ]
  },
  {
   "cell_type": "code",
   "execution_count": 18,
   "id": "05f2469e",
   "metadata": {},
   "outputs": [
    {
     "name": "stdout",
     "output_type": "stream",
     "text": [
      "\n",
      "Question 3: Calculate the square of 25\n",
      "Given number is : 25\n",
      "Squar of 25 is 625.\n"
     ]
    }
   ],
   "source": [
    "# Question 3: Calculate the square of 25\n",
    "print(\"\\nQuestion 3: Calculate the square of 25\")\n",
    "# Your code here\n",
    "num=25\n",
    "print(f\"Given number is : {num}\")\n",
    "num_=num*num\n",
    "print(f\"Squar of {num} is {num_}.\")"
   ]
  },
  {
   "cell_type": "code",
   "execution_count": null,
   "id": "2a889c62",
   "metadata": {},
   "outputs": [],
   "source": [
    "#Question 4: Find the cube root of 125\n",
    "print(\"\\nQuestion 4: Find the cube root of 125\")\n",
    "# Your code here\n",
    "number=8\n",
    "cube_root = pow(number, 1/3)\n",
    "print(f\"Cube root of {number} is {cube_root}\")"
   ]
  },
  {
   "cell_type": "code",
   "execution_count": null,
   "id": "83496dc8",
   "metadata": {},
   "outputs": [],
   "source": [
    "# Question 5: Calculate the sum of digits in number 12345\n",
    "print(\"\\nQuestion 5: Calculate the sum of digits in number 12345\")\n",
    "# Your code here\n",
    "numbers=1,2,3,4,5\n",
    "sum=0\n",
    "for i in range(len(numbers)+1):\n",
    "    sum=sum+i\n",
    "print(f\"sum of givne number is {sum}\")\n"
   ]
  },
  {
   "cell_type": "code",
   "execution_count": null,
   "id": "445a2747",
   "metadata": {},
   "outputs": [],
   "source": [
    "# Question 6: Check if 97 is a prime number\n",
    "print(\"\\nQuestion 6: Check if 97 is a prime number\")\n",
    "# Your code here\n",
    "import math\n",
    "num = int(input(\"please enter the number\"))\n",
    "if num <= 1:\n",
    "    print(\"Not a prime number\")\n",
    "else:\n",
    "    for i in range(2, int(math.sqrt(num)) + 1):\n",
    "        if num % i == 0:\n",
    "            print(f\"'{num}' is not a prime number.\")\n",
    "            break\n",
    "    else:\n",
    "        print(f\"'{num}' is a prime number.\")\n",
    "\n"
   ]
  },
  {
   "cell_type": "code",
   "execution_count": 91,
   "id": "2fb9de3c",
   "metadata": {},
   "outputs": [
    {
     "name": "stdout",
     "output_type": "stream",
     "text": [
      "\n",
      "Question 7: Find the factorial of 8\n",
      "40320\n"
     ]
    }
   ],
   "source": [
    "# Question 7: Find the factorial of 8\n",
    "print(\"\\nQuestion 7: Find the factorial of 8\")\n",
    "# Your code here\n",
    "import math\n",
    "print(math.factorial(8))"
   ]
  },
  {
   "cell_type": "code",
   "execution_count": 95,
   "id": "27dd9e35",
   "metadata": {},
   "outputs": [
    {
     "name": "stdout",
     "output_type": "stream",
     "text": [
      "Factorial of 8 is 40320.\n"
     ]
    }
   ],
   "source": [
    "#using range\n",
    "fact=1\n",
    "n=8\n",
    "for i in range (1,n+1):\n",
    "    fact=fact*i\n",
    "print(f\"Factorial of {n} is {fact}.\")"
   ]
  },
  {
   "cell_type": "code",
   "execution_count": null,
   "id": "248dee32",
   "metadata": {},
   "outputs": [],
   "source": [
    "# Question 8: Calculate the average of numbers: 15, 23, 31, 42, 56\n",
    "print(\"\\nQuestion 8: Calculate the average of numbers: 15, 23, 31, 42, 56\")\n",
    "# Your code here\n",
    "print(\"Given numbers are : 15, 23, 31, 42, 56\")\n",
    "avg = (15 + 23 + 31 + 42 + 56) / 5\n",
    " # In Python, sum() takes one iterable (like a list, tuple, set, etc.), not separate numbers. \n",
    "sum1 = sum((15,23,31,42,56))     \n",
    "n = 5\n",
    "print(f\"Average of given numbers is {sum1/n}\")"
   ]
  },
  {
   "cell_type": "code",
   "execution_count": null,
   "id": "1f10ac54",
   "metadata": {},
   "outputs": [],
   "source": [
    "# Question 9: Find the greatest common divisor (GCD) of 48 and 36\n",
    "print(\"\\nQuestion 9: Find the greatest common divisor (GCD) of 48 and 36\")\n",
    "# Your code here\n",
    "a, b = 48, 36\n",
    "while b != 0:\n",
    "    a, b = b, a % b\n",
    "print(\"the greatest common divisor (GCD) of 48 and 36 is\", a)\n"
   ]
  },
  {
   "cell_type": "code",
   "execution_count": 22,
   "id": "f19d8cfc",
   "metadata": {},
   "outputs": [
    {
     "name": "stdout",
     "output_type": "stream",
     "text": [
      "\n",
      "Question 10: Calculate the sum of first 20 odd numbers\n",
      "First 20 odd numbers are[1, 3, 5, 7, 9, 11, 13, 15, 17, 19, 21, 23, 25, 27, 29, 31, 33, 35, 37, 39].\n",
      "\n",
      "The sum of first 20 odd numbers 400\n"
     ]
    }
   ],
   "source": [
    "# Question 10: Calculate the sum of first 20 odd numbers\n",
    "print(\"\\nQuestion 10: Calculate the sum of first 20 odd numbers\")\n",
    "# Your code here \n",
    "list = []\n",
    "c=0\n",
    "for i in range(1, 40):\n",
    "    if i % 2 != 0:\n",
    "        list.append(i)\n",
    "        c=c+1\n",
    "        if c==20:\n",
    "            break\n",
    "print(f\"First 20 odd numbers are{list}.\")\n",
    "print()\n",
    "print(f\"The sum of first 20 odd numbers {sum(list)}\")    \n",
    "    \n",
    "\n",
    "\n"
   ]
  }
 ],
 "metadata": {
  "kernelspec": {
   "display_name": "Python 3",
   "language": "python",
   "name": "python3"
  },
  "language_info": {
   "codemirror_mode": {
    "name": "ipython",
    "version": 3
   },
   "file_extension": ".py",
   "mimetype": "text/x-python",
   "name": "python",
   "nbconvert_exporter": "python",
   "pygments_lexer": "ipython3",
   "version": "3.13.7"
  }
 },
 "nbformat": 4,
 "nbformat_minor": 5
}
