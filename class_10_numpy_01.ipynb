{
 "cells": [
  {
   "cell_type": "markdown",
   "id": "62248585",
   "metadata": {},
   "source": [
    "Numpy Numeric python "
   ]
  },
  {
   "cell_type": "code",
   "execution_count": null,
   "id": "86f27f04",
   "metadata": {},
   "outputs": [],
   "source": [
    "import numpy as np\n",
    "data=np.random.randint(0,100,(5,5))\n",
    "data"
   ]
  },
  {
   "cell_type": "code",
   "execution_count": null,
   "id": "d48b68a8",
   "metadata": {},
   "outputs": [],
   "source": [
    "data[0:3,1:3]"
   ]
  },
  {
   "cell_type": "code",
   "execution_count": null,
   "id": "ea4541a3",
   "metadata": {},
   "outputs": [],
   "source": [
    "data[-2:-1,-2:-1]"
   ]
  },
  {
   "cell_type": "code",
   "execution_count": null,
   "id": "3b98e359",
   "metadata": {},
   "outputs": [],
   "source": [
    "x=[1,2,3]\n",
    "print(type(x))\n",
    "y=np.array([1,2,3])\n",
    "print(type(y))"
   ]
  },
  {
   "cell_type": "code",
   "execution_count": 73,
   "id": "7d36938a",
   "metadata": {},
   "outputs": [
    {
     "data": {
      "text/plain": [
       "array([0.5, 1. , 1.5])"
      ]
     },
     "execution_count": 73,
     "metadata": {},
     "output_type": "execute_result"
    }
   ],
   "source": [
    "#x/2 # not allowed over list\n",
    "y/2 # we can do on numpy array"
   ]
  },
  {
   "cell_type": "code",
   "execution_count": null,
   "id": "e9e14f8a",
   "metadata": {},
   "outputs": [
    {
     "data": {
      "text/plain": [
       "list"
      ]
     },
     "execution_count": 79,
     "metadata": {},
     "output_type": "execute_result"
    }
   ],
   "source": [
    "x=[1,2,3,6.0]\n",
    "x\n",
    "type(x) # float remain float\n",
    "#numpy desined to perfomred operation once if same data type present "
   ]
  },
  {
   "cell_type": "code",
   "execution_count": 90,
   "id": "830b440e",
   "metadata": {},
   "outputs": [
    {
     "data": {
      "text/plain": [
       "array(['1', '2', '3', '6.0', 'data'], dtype='<U32')"
      ]
     },
     "execution_count": 90,
     "metadata": {},
     "output_type": "execute_result"
    }
   ],
   "source": [
    "y=np.array([1,2,3,6.0])\n",
    "y # all the elements getitng convetred to float \n",
    "#if one entry is float so all converted to float data type \n",
    "# if we have int , float and chat then all conerted as same datatype\n",
    "y=np.array([1,2,3,6.0,\"data\"])\n",
    "y #array(['1', '2', '3', '6.0', 'data'], dtype='<U32')\n",
    "#diffrence b/n lsit and numpy\n",
    "#1- list called hetroginious data type, numpy homoginius datatype\n",
    "#list wont allow to perform operation on all the data , we have to use for loop for that so we can extract one one \n",
    "#element and perform the operation \n",
    "# but numpy allows operate on all the data type\n",
    "#all the data converted to one datatype \n",
    "#performance wise numpy is better  and carries only single data type it optimise memory management "
   ]
  },
  {
   "cell_type": "code",
   "execution_count": null,
   "id": "b8d9187c",
   "metadata": {},
   "outputs": [],
   "source": [
    "data=np.array([1,2,3,4])\n",
    "(data-data.min())/(data.max()-data.min())"
   ]
  },
  {
   "cell_type": "code",
   "execution_count": null,
   "id": "d6ad0ca9",
   "metadata": {},
   "outputs": [],
   "source": [
    "data=np.array([1,2,3,4])\n",
    "(data-data.min())/(data.max()-data.min())"
   ]
  }
 ],
 "metadata": {
  "kernelspec": {
   "display_name": "Python 3",
   "language": "python",
   "name": "python3"
  },
  "language_info": {
   "codemirror_mode": {
    "name": "ipython",
    "version": 3
   },
   "file_extension": ".py",
   "mimetype": "text/x-python",
   "name": "python",
   "nbconvert_exporter": "python",
   "pygments_lexer": "ipython3",
   "version": "3.13.7"
  }
 },
 "nbformat": 4,
 "nbformat_minor": 5
}
