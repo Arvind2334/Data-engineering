{
 "cells": [
  {
   "cell_type": "code",
   "execution_count": null,
   "id": "2cc61b8c",
   "metadata": {},
   "outputs": [],
   "source": [
    "# STRING DATATYPE ASSIGNMENT - 50 QUESTIONS\n",
    "# ========================================\n",
    "\n",
    "# SOLVED EXAMPLE\n",
    "# --------------\n",
    "# Question: Count vowels in the string \"Hello World\"\n",
    "print(\"SOLVED EXAMPLE:\")\n",
    "print(\"Count vowels in the string 'Hello World'\")\n",
    "text = \"Hello World\"\n",
    "vowels = \"aeiouAEIOU\"\n",
    "count = sum(1 for char in text if char in vowels)\n",
    "print(f\"String: {text}\")\n",
    "print(f\"Number of vowels: {count}\")\n",
    "print(\"-\" * 50)\n"
   ]
  },
  {
   "cell_type": "markdown",
   "id": "25447b29",
   "metadata": {},
   "source": [
    "# ASSIGNMENT QUESTIONS (50 QUESTIONS)\n",
    "# =================================="
   ]
  },
  {
   "cell_type": "code",
   "execution_count": null,
   "id": "fb5f0d30",
   "metadata": {},
   "outputs": [],
   "source": [
    "\n",
    "# Question 1: Reverse the string \"Python Programming\"\n",
    "print(\"Question 1: Reverse the string 'Python Programming'\")\n",
    "# Your code here\n",
    "s = \"Python Programming\"\n",
    "#reversed_s = s[::-1] # [start: stop : steps] start not given , stop not given , -1 go backwards so it \n",
    "# takes the string from end to start \n",
    "reversed_s = s[::-1]\n",
    "print(f\"Original string: {s}\")\n",
    "print(f\"Reversed string: {reversed_s}\")\n"
   ]
  },
  {
   "cell_type": "code",
   "execution_count": 41,
   "id": "ced344d9",
   "metadata": {},
   "outputs": [
    {
     "name": "stdout",
     "output_type": "stream",
     "text": [
      "\n",
      "Question 2: Check if 'racecar' is a palindrome\n",
      "String is palindrome\n"
     ]
    }
   ],
   "source": [
    "# Question 2: Check if \"racecar\" is a palindrome\n",
    "print(\"\\nQuestion 2: Check if 'racecar' is a palindrome\")\n",
    "# Your code here\n",
    "str1='racecar'\n",
    "str2=str1[::-1]\n",
    "if str1 == str2:\n",
    "    print(f\"String is palindrome\")\n",
    "else:\n",
    "    print(f\"String is not palindrome\")"
   ]
  },
  {
   "cell_type": "code",
   "execution_count": null,
   "id": "a1627271",
   "metadata": {},
   "outputs": [],
   "source": [
    "# Question 3: Count the number of words in \"Python is a great programming language\"\n",
    "\n",
    "print(\"\\nQuestion 3: Count the number of words in 'Python is a great programming language'\")\n",
    "# Your code here\n",
    "string = \"Python is a great programming language\".split()\n",
    "c = len(string)\n",
    "print(f\"Number of words are {c}\")\n",
    "\n"
   ]
  },
  {
   "cell_type": "code",
   "execution_count": 69,
   "id": "738de337",
   "metadata": {},
   "outputs": [
    {
     "name": "stdout",
     "output_type": "stream",
     "text": [
      "\n",
      "Question 4: Convert 'hello world' to title case\n",
      "propcase of 'hello world': Hello World\n"
     ]
    }
   ],
   "source": [
    "# Question 4: Convert \"hello world\" to title case\n",
    "print(\"\\nQuestion 4: Convert 'hello world' to title case\")\n",
    "# Your code here\n",
    "string=\"hello world\".title()\n",
    "print(f\"propcase of 'hello world': {string}\")\n"
   ]
  },
  {
   "cell_type": "code",
   "execution_count": null,
   "id": "8e3bb3e7",
   "metadata": {},
   "outputs": [],
   "source": [
    "# Question 5: Find the length of string \"Data Science\"\n",
    "print(\"\\nQuestion 5: Find the length of string 'Data Science'\")\n",
    "# Your code here\n",
    "length_of_strg=len(\"Data Science\")\n",
    "print(f\"the length of string 'Data Science' is {length_of_strg}\")\n"
   ]
  },
  {
   "cell_type": "code",
   "execution_count": 76,
   "id": "94607484",
   "metadata": {},
   "outputs": [
    {
     "name": "stdout",
     "output_type": "stream",
     "text": [
      "\n",
      "Question 6: Replace all spaces with underscores in 'Machine Learning'\n",
      "Machine_Learning\n"
     ]
    }
   ],
   "source": [
    "# Question 6: Replace all spaces with underscores in \"Machine Learning\"\n",
    "print(\"\\nQuestion 6: Replace all spaces with underscores in 'Machine Learning'\")\n",
    "# Your code here\n",
    "ms=\"Machine Learning\"\n",
    "ms=ms.replace(' ',\"_\")\n",
    "print(ms)"
   ]
  },
  {
   "cell_type": "code",
   "execution_count": null,
   "id": "c0fa5559",
   "metadata": {},
   "outputs": [],
   "source": [
    "# Question 7: Check if \"python\" is in \"Python Programming Language\"\n",
    "print(\"\\nQuestion 7: Check if 'python' is in 'Python Programming Language'\")\n",
    "# Your code here\n",
    "string=\"Python Programming Language\".split()\n",
    "for i in string:\n",
    "    if i==\"Python\":\n",
    "        print(\"'python' is in 'Python Programming Language'\")\n",
    "        break\n",
    "    else:\n",
    "        print(\"'python' is not in 'Python Programming Language'\")\n"
   ]
  },
  {
   "cell_type": "code",
   "execution_count": null,
   "id": "48163d8b",
   "metadata": {},
   "outputs": [
    {
     "name": "stdout",
     "output_type": "stream",
     "text": [
      "'python' is in Python Programming Language\n"
     ]
    }
   ],
   "source": [
    "# Question 7: Check if \"python\" is in \"Python Programming Language\"\n",
    "\n",
    "string=\"Python Programming Language\"\n",
    "\n",
    "if \"Python\" in string:\n",
    "    print(\"'python' is in Python Programming Language\")\n",
    "else:\n",
    "    print(\"'python' not in Python Programming Language\")"
   ]
  },
  {
   "cell_type": "code",
   "execution_count": null,
   "id": "bfd7b5e7",
   "metadata": {},
   "outputs": [
    {
     "name": "stdout",
     "output_type": "stream",
     "text": [
      "\n",
      "Question 8: Extract the first 5 characters from 'Artificial Intelligence'\n",
      "the first 5 characters from 'Artificial Intelligence' are:Artif\n"
     ]
    }
   ],
   "source": [
    "# Question 8: Extract the first 5 characters from \"Artificial Intelligence\"\n",
    "print(\"\\nQuestion 8: Extract the first 5 characters from 'Artificial Intelligence'\")\n",
    "# Your code here\n",
    "c=0\n",
    "string1=''\n",
    "string=\"Artificial Intelligence\"\n",
    "for i in string:\n",
    "    c=c+1\n",
    "    string1=string1+i\n",
    "    if c==5:\n",
    "        break\n",
    "print(f\"the first 5 characters from 'Artificial Intelligence' are:{string1}\")"
   ]
  },
  {
   "cell_type": "code",
   "execution_count": 102,
   "id": "24526a38",
   "metadata": {},
   "outputs": [
    {
     "name": "stdout",
     "output_type": "stream",
     "text": [
      "Artif\n"
     ]
    }
   ],
   "source": [
    "# Question 8: Extract the first 5 characters from \"Artificial Intelligence\"\n",
    "string='Artificial Intelligence'\n",
    "string2=string[:5]\n",
    "print(string2)"
   ]
  },
  {
   "cell_type": "code",
   "execution_count": 109,
   "id": "060b1b81",
   "metadata": {},
   "outputs": [
    {
     "name": "stdout",
     "output_type": "stream",
     "text": [
      "\n",
      "Question 9: Convert 'UPPERCASE' to lowercase\n",
      "UPPERCASE to lowercase: uppercase\n"
     ]
    }
   ],
   "source": [
    "# Question 9: Convert \"UPPERCASE\" to lowercase\n",
    "print(\"\\nQuestion 9: Convert 'UPPERCASE' to lowercase\")\n",
    "# Your code here\n",
    "print(f\"UPPERCASE to lowercase: {'UPPERCASE'.lower()}\")"
   ]
  },
  {
   "cell_type": "code",
   "execution_count": null,
   "id": "2fae74a9",
   "metadata": {},
   "outputs": [],
   "source": [
    "# Question 10: Remove all vowels from \"Computer Science\"\n",
    "print(\"\\nQuestion 10: Remove all vowels from 'Computer Science'\")\n",
    "string=\"COomputer ScienceoAa\"\n",
    "for v in \"aAeEiIoOuU\":\n",
    "   string=string.replace(v,'')\n",
    "   print(string)\n",
    "print(string)\n"
   ]
  },
  {
   "cell_type": "code",
   "execution_count": 145,
   "id": "62852be1",
   "metadata": {},
   "outputs": [
    {
     "name": "stdout",
     "output_type": "stream",
     "text": [
      "\n",
      "Question 11: Find the most frequent character in 'mississippi'\n",
      "count of p is 2\n",
      "count of m is 1\n",
      "count of s is 4\n",
      "count of i is 4\n",
      "[]\n"
     ]
    }
   ],
   "source": [
    "# Question 11: Find the most frequent character in \"mississippi\"\n",
    "print(\"\\nQuestion 11: Find the most frequent character in 'mississippi'\")\n",
    "# Your code here\n",
    "list=[]\n",
    "s='mississippi'\n",
    "s1=set(s)\n",
    "for i in s1:\n",
    "    print(f\"count of {i} is\",s.count(i))\n",
    "    dict.values()\n",
    "print(list)"
   ]
  }
 ],
 "metadata": {
  "kernelspec": {
   "display_name": "Python 3",
   "language": "python",
   "name": "python3"
  },
  "language_info": {
   "codemirror_mode": {
    "name": "ipython",
    "version": 3
   },
   "file_extension": ".py",
   "mimetype": "text/x-python",
   "name": "python",
   "nbconvert_exporter": "python",
   "pygments_lexer": "ipython3",
   "version": "3.13.7"
  }
 },
 "nbformat": 4,
 "nbformat_minor": 5
}
